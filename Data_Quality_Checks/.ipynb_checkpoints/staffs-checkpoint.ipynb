{
 "cells": [
  {
   "cell_type": "code",
   "execution_count": 1,
   "id": "471be010-2e97-4376-8989-edb5c06ff426",
   "metadata": {},
   "outputs": [],
   "source": [
    "import pandas as pd"
   ]
  },
  {
   "cell_type": "code",
   "execution_count": 2,
   "id": "c94ce47d-ac31-47fc-aaa7-37ac3697b7bf",
   "metadata": {},
   "outputs": [],
   "source": [
    "df = pd.read_csv('../Landing/staffs/staffs.csv')"
   ]
  },
  {
   "cell_type": "markdown",
   "id": "009b4314-ba5b-46fa-ae27-348e323ca684",
   "metadata": {},
   "source": [
    "### Check for nulls"
   ]
  },
  {
   "cell_type": "code",
   "execution_count": 3,
   "id": "b83803ea-4f8b-4831-bcd3-ea6082bdadd9",
   "metadata": {},
   "outputs": [
    {
     "name": "stdout",
     "output_type": "stream",
     "text": [
      "<class 'pandas.core.frame.DataFrame'>\n",
      "RangeIndex: 10 entries, 0 to 9\n",
      "Data columns (total 11 columns):\n",
      " #   Column      Non-Null Count  Dtype  \n",
      "---  ------      --------------  -----  \n",
      " 0   Unnamed: 0  10 non-null     int64  \n",
      " 1   staff_id    10 non-null     int64  \n",
      " 2   first_name  10 non-null     object \n",
      " 3   last_name   9 non-null      object \n",
      " 4   email       9 non-null      object \n",
      " 5   phone       8 non-null      object \n",
      " 6   active      10 non-null     int64  \n",
      " 7   store_id    9 non-null      float64\n",
      " 8   manager_id  9 non-null      float64\n",
      " 9   timestamp   10 non-null     object \n",
      " 10  source      10 non-null     object \n",
      "dtypes: float64(2), int64(3), object(6)\n",
      "memory usage: 1008.0+ bytes\n"
     ]
    }
   ],
   "source": [
    "df.info()"
   ]
  },
  {
   "cell_type": "code",
   "execution_count": 4,
   "id": "b323a5b4-dc83-4366-9339-f7b55157278d",
   "metadata": {},
   "outputs": [
    {
     "data": {
      "text/plain": [
       "Unnamed: 0    10\n",
       "staff_id      10\n",
       "first_name    10\n",
       "last_name      9\n",
       "email          9\n",
       "phone          8\n",
       "active        10\n",
       "store_id       9\n",
       "manager_id     9\n",
       "timestamp     10\n",
       "source        10\n",
       "dtype: int64"
      ]
     },
     "execution_count": 4,
     "metadata": {},
     "output_type": "execute_result"
    }
   ],
   "source": [
    "df.count()"
   ]
  },
  {
   "cell_type": "markdown",
   "id": "613fa644-61e2-40cb-ab11-65a10207780b",
   "metadata": {},
   "source": [
    "#### No Nulls found"
   ]
  },
  {
   "cell_type": "code",
   "execution_count": 5,
   "id": "52032ad0-4036-429a-a6f4-5d60d450d493",
   "metadata": {},
   "outputs": [
    {
     "data": {
      "text/plain": [
       "False"
      ]
     },
     "execution_count": 5,
     "metadata": {},
     "output_type": "execute_result"
    }
   ],
   "source": [
    "df.staff_id.duplicated().any()"
   ]
  },
  {
   "cell_type": "markdown",
   "id": "41933314-5e03-40d7-9f20-10cbd6792703",
   "metadata": {},
   "source": [
    "#### No duplicates in any columns"
   ]
  },
  {
   "cell_type": "markdown",
   "id": "85353da5-04db-4289-9357-b3a687c32213",
   "metadata": {},
   "source": [
    "#### Save to Staging"
   ]
  },
  {
   "cell_type": "code",
   "execution_count": 6,
   "id": "585de5a8-a33c-4ad9-8166-0d2c82aeaa52",
   "metadata": {},
   "outputs": [],
   "source": [
    "# Create the staging directory\n",
    "import os\n",
    "directory_path = '../staging_1'\n",
    "\n",
    "# Create the directory if it does not exist\n",
    "os.makedirs(directory_path, exist_ok=True)\n",
    "os.makedirs(f\"{directory_path}/staffs\", exist_ok=True)\n",
    "df.to_csv(\"../staging_1/staffs/staffs.csv\", index=False)"
   ]
  },
  {
   "cell_type": "markdown",
   "id": "a79e5ef0-4fc9-4155-8f44-f05af3d69d00",
   "metadata": {},
   "source": [
    "<hr>"
   ]
  }
 ],
 "metadata": {
  "kernelspec": {
   "display_name": "Python 3 (ipykernel)",
   "language": "python",
   "name": "python3"
  },
  "language_info": {
   "codemirror_mode": {
    "name": "ipython",
    "version": 3
   },
   "file_extension": ".py",
   "mimetype": "text/x-python",
   "name": "python",
   "nbconvert_exporter": "python",
   "pygments_lexer": "ipython3",
   "version": "3.9.5"
  }
 },
 "nbformat": 4,
 "nbformat_minor": 5
}
