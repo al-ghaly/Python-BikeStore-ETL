{
 "cells": [
  {
   "cell_type": "code",
   "execution_count": 1,
   "id": "471be010-2e97-4376-8989-edb5c06ff426",
   "metadata": {},
   "outputs": [],
   "source": [
    "import pandas as pd"
   ]
  },
  {
   "cell_type": "code",
   "execution_count": 2,
   "id": "c94ce47d-ac31-47fc-aaa7-37ac3697b7bf",
   "metadata": {},
   "outputs": [],
   "source": [
    "df = pd.read_csv('../Landing/stores/stores.csv')"
   ]
  },
  {
   "cell_type": "markdown",
   "id": "009b4314-ba5b-46fa-ae27-348e323ca684",
   "metadata": {},
   "source": [
    "### Check for nulls"
   ]
  },
  {
   "cell_type": "code",
   "execution_count": 3,
   "id": "b83803ea-4f8b-4831-bcd3-ea6082bdadd9",
   "metadata": {},
   "outputs": [
    {
     "name": "stdout",
     "output_type": "stream",
     "text": [
      "<class 'pandas.core.frame.DataFrame'>\n",
      "RangeIndex: 3 entries, 0 to 2\n",
      "Data columns (total 11 columns):\n",
      " #   Column      Non-Null Count  Dtype  \n",
      "---  ------      --------------  -----  \n",
      " 0   Unnamed: 0  3 non-null      int64  \n",
      " 1   store_id    3 non-null      int64  \n",
      " 2   store_name  3 non-null      object \n",
      " 3   phone       3 non-null      object \n",
      " 4   email       2 non-null      object \n",
      " 5   street      3 non-null      object \n",
      " 6   city        3 non-null      object \n",
      " 7   state       3 non-null      object \n",
      " 8   zip_code    2 non-null      float64\n",
      " 9   timestamp   3 non-null      object \n",
      " 10  source      3 non-null      object \n",
      "dtypes: float64(1), int64(2), object(8)\n",
      "memory usage: 392.0+ bytes\n"
     ]
    }
   ],
   "source": [
    "df.info()"
   ]
  },
  {
   "cell_type": "code",
   "execution_count": 4,
   "id": "b323a5b4-dc83-4366-9339-f7b55157278d",
   "metadata": {},
   "outputs": [
    {
     "data": {
      "text/plain": [
       "Unnamed: 0    3\n",
       "store_id      3\n",
       "store_name    3\n",
       "phone         3\n",
       "email         2\n",
       "street        3\n",
       "city          3\n",
       "state         3\n",
       "zip_code      2\n",
       "timestamp     3\n",
       "source        3\n",
       "dtype: int64"
      ]
     },
     "execution_count": 4,
     "metadata": {},
     "output_type": "execute_result"
    }
   ],
   "source": [
    "df.count()"
   ]
  },
  {
   "cell_type": "markdown",
   "id": "613fa644-61e2-40cb-ab11-65a10207780b",
   "metadata": {},
   "source": [
    "#### No Nulls found"
   ]
  },
  {
   "cell_type": "code",
   "execution_count": 5,
   "id": "6d8d1540-e455-454f-9fcd-f17405b17532",
   "metadata": {},
   "outputs": [
    {
     "data": {
      "text/html": [
       "<div>\n",
       "<style scoped>\n",
       "    .dataframe tbody tr th:only-of-type {\n",
       "        vertical-align: middle;\n",
       "    }\n",
       "\n",
       "    .dataframe tbody tr th {\n",
       "        vertical-align: top;\n",
       "    }\n",
       "\n",
       "    .dataframe thead th {\n",
       "        text-align: right;\n",
       "    }\n",
       "</style>\n",
       "<table border=\"1\" class=\"dataframe\">\n",
       "  <thead>\n",
       "    <tr style=\"text-align: right;\">\n",
       "      <th></th>\n",
       "      <th>Unnamed: 0</th>\n",
       "      <th>store_id</th>\n",
       "      <th>store_name</th>\n",
       "      <th>phone</th>\n",
       "      <th>email</th>\n",
       "      <th>street</th>\n",
       "      <th>city</th>\n",
       "      <th>state</th>\n",
       "      <th>zip_code</th>\n",
       "      <th>timestamp</th>\n",
       "      <th>source</th>\n",
       "    </tr>\n",
       "  </thead>\n",
       "  <tbody>\n",
       "    <tr>\n",
       "      <th>0</th>\n",
       "      <td>0</td>\n",
       "      <td>1</td>\n",
       "      <td>Santa Cruz Bikes</td>\n",
       "      <td>(831) 476-4321</td>\n",
       "      <td>NaN</td>\n",
       "      <td>3700 Portola Drive</td>\n",
       "      <td>Santa Cruz</td>\n",
       "      <td>CA</td>\n",
       "      <td>NaN</td>\n",
       "      <td>2024-04-28 17:44:44.839659</td>\n",
       "      <td>DataLake</td>\n",
       "    </tr>\n",
       "    <tr>\n",
       "      <th>1</th>\n",
       "      <td>1</td>\n",
       "      <td>2</td>\n",
       "      <td>Baldwin Bikes</td>\n",
       "      <td>(516) 379-8888</td>\n",
       "      <td>baldwin@bikes.shop</td>\n",
       "      <td>4200 Chestnut Lane</td>\n",
       "      <td>Baldwin</td>\n",
       "      <td>NY</td>\n",
       "      <td>11432.0</td>\n",
       "      <td>2024-04-28 17:44:44.839659</td>\n",
       "      <td>DataLake</td>\n",
       "    </tr>\n",
       "    <tr>\n",
       "      <th>2</th>\n",
       "      <td>2</td>\n",
       "      <td>3</td>\n",
       "      <td>Rowlett Bikes</td>\n",
       "      <td>(972) 530-5555</td>\n",
       "      <td>rowlett@bikes.shop</td>\n",
       "      <td>8000 Fairway Avenue</td>\n",
       "      <td>Rowlett</td>\n",
       "      <td>TX</td>\n",
       "      <td>75088.0</td>\n",
       "      <td>2024-04-28 17:44:44.839659</td>\n",
       "      <td>DataLake</td>\n",
       "    </tr>\n",
       "  </tbody>\n",
       "</table>\n",
       "</div>"
      ],
      "text/plain": [
       "   Unnamed: 0  store_id        store_name           phone               email  \\\n",
       "0           0         1  Santa Cruz Bikes  (831) 476-4321                 NaN   \n",
       "1           1         2     Baldwin Bikes  (516) 379-8888  baldwin@bikes.shop   \n",
       "2           2         3     Rowlett Bikes  (972) 530-5555  rowlett@bikes.shop   \n",
       "\n",
       "                street        city state  zip_code  \\\n",
       "0   3700 Portola Drive  Santa Cruz    CA       NaN   \n",
       "1   4200 Chestnut Lane     Baldwin    NY   11432.0   \n",
       "2  8000 Fairway Avenue     Rowlett    TX   75088.0   \n",
       "\n",
       "                    timestamp    source  \n",
       "0  2024-04-28 17:44:44.839659  DataLake  \n",
       "1  2024-04-28 17:44:44.839659  DataLake  \n",
       "2  2024-04-28 17:44:44.839659  DataLake  "
      ]
     },
     "execution_count": 5,
     "metadata": {},
     "output_type": "execute_result"
    }
   ],
   "source": [
    "df"
   ]
  },
  {
   "cell_type": "code",
   "execution_count": 6,
   "id": "52032ad0-4036-429a-a6f4-5d60d450d493",
   "metadata": {},
   "outputs": [
    {
     "data": {
      "text/plain": [
       "False"
      ]
     },
     "execution_count": 6,
     "metadata": {},
     "output_type": "execute_result"
    }
   ],
   "source": [
    "df.store_id.duplicated().any()"
   ]
  },
  {
   "cell_type": "markdown",
   "id": "41933314-5e03-40d7-9f20-10cbd6792703",
   "metadata": {},
   "source": [
    "#### No duplicates in any columns"
   ]
  },
  {
   "cell_type": "markdown",
   "id": "f623f0c9-d445-48c9-9b74-5a80f7d7b3ef",
   "metadata": {},
   "source": [
    "#### Save To Staging"
   ]
  },
  {
   "cell_type": "code",
   "execution_count": 7,
   "id": "9b118579-105f-464c-a31e-383269ea3d92",
   "metadata": {},
   "outputs": [],
   "source": [
    "# Create the staging directory\n",
    "import os\n",
    "directory_path = '../staging_1'\n",
    "\n",
    "# Create the directory if it does not exist\n",
    "os.makedirs(directory_path, exist_ok=True)\n",
    "os.makedirs(f\"{directory_path}/stores\", exist_ok=True)\n",
    "df.to_csv(\"../staging_1/stores/stores.csv\", index=False)"
   ]
  },
  {
   "cell_type": "markdown",
   "id": "a79e5ef0-4fc9-4155-8f44-f05af3d69d00",
   "metadata": {},
   "source": [
    "<hr>"
   ]
  }
 ],
 "metadata": {
  "kernelspec": {
   "display_name": "Python 3 (ipykernel)",
   "language": "python",
   "name": "python3"
  },
  "language_info": {
   "codemirror_mode": {
    "name": "ipython",
    "version": 3
   },
   "file_extension": ".py",
   "mimetype": "text/x-python",
   "name": "python",
   "nbconvert_exporter": "python",
   "pygments_lexer": "ipython3",
   "version": "3.9.5"
  }
 },
 "nbformat": 4,
 "nbformat_minor": 5
}
