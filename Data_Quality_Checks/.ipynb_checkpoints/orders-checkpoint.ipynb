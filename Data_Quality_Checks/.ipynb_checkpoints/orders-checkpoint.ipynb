{
 "cells": [
  {
   "cell_type": "code",
   "execution_count": 1,
   "id": "471be010-2e97-4376-8989-edb5c06ff426",
   "metadata": {},
   "outputs": [],
   "source": [
    "import pandas as pd"
   ]
  },
  {
   "cell_type": "code",
   "execution_count": 2,
   "id": "c94ce47d-ac31-47fc-aaa7-37ac3697b7bf",
   "metadata": {},
   "outputs": [],
   "source": [
    "df = pd.read_csv('../Landing/orders/orders.csv')"
   ]
  },
  {
   "cell_type": "markdown",
   "id": "009b4314-ba5b-46fa-ae27-348e323ca684",
   "metadata": {},
   "source": [
    "### Check for nulls"
   ]
  },
  {
   "cell_type": "code",
   "execution_count": 3,
   "id": "b83803ea-4f8b-4831-bcd3-ea6082bdadd9",
   "metadata": {},
   "outputs": [
    {
     "name": "stdout",
     "output_type": "stream",
     "text": [
      "<class 'pandas.core.frame.DataFrame'>\n",
      "RangeIndex: 1615 entries, 0 to 1614\n",
      "Data columns (total 10 columns):\n",
      " #   Column         Non-Null Count  Dtype \n",
      "---  ------         --------------  ----- \n",
      " 0   order_id       1615 non-null   int64 \n",
      " 1   customer_id    1615 non-null   int64 \n",
      " 2   order_status   1615 non-null   int64 \n",
      " 3   order_date     1615 non-null   object\n",
      " 4   required_date  1615 non-null   object\n",
      " 5   shipped_date   1445 non-null   object\n",
      " 6   store_id       1615 non-null   int64 \n",
      " 7   staff_id       1615 non-null   int64 \n",
      " 8   timestamp      1615 non-null   object\n",
      " 9   source         1615 non-null   object\n",
      "dtypes: int64(5), object(5)\n",
      "memory usage: 126.3+ KB\n"
     ]
    }
   ],
   "source": [
    "df.info()"
   ]
  },
  {
   "cell_type": "code",
   "execution_count": 4,
   "id": "b323a5b4-dc83-4366-9339-f7b55157278d",
   "metadata": {},
   "outputs": [
    {
     "data": {
      "text/plain": [
       "order_id         1615\n",
       "customer_id      1615\n",
       "order_status     1615\n",
       "order_date       1615\n",
       "required_date    1615\n",
       "shipped_date     1445\n",
       "store_id         1615\n",
       "staff_id         1615\n",
       "timestamp        1615\n",
       "source           1615\n",
       "dtype: int64"
      ]
     },
     "execution_count": 4,
     "metadata": {},
     "output_type": "execute_result"
    }
   ],
   "source": [
    "df.count()"
   ]
  },
  {
   "cell_type": "markdown",
   "id": "613fa644-61e2-40cb-ab11-65a10207780b",
   "metadata": {},
   "source": [
    "#### No Nulls found"
   ]
  },
  {
   "cell_type": "markdown",
   "id": "cf6db30e-8418-43bc-94c2-ffd72390d779",
   "metadata": {},
   "source": [
    "#### Check for duplicates"
   ]
  },
  {
   "cell_type": "code",
   "execution_count": 5,
   "id": "ed0babf9-88cf-4940-92e9-124ff1fbe323",
   "metadata": {},
   "outputs": [
    {
     "data": {
      "text/plain": [
       "False"
      ]
     },
     "execution_count": 5,
     "metadata": {},
     "output_type": "execute_result"
    }
   ],
   "source": [
    "df.order_id.duplicated().any()"
   ]
  },
  {
   "cell_type": "markdown",
   "id": "26cfaa8b-524c-4f6c-bb88-d1f638666afa",
   "metadata": {},
   "source": [
    "#### No Duplicates"
   ]
  },
  {
   "cell_type": "markdown",
   "id": "9fef080a-294e-4df4-9936-2e7d24e506d4",
   "metadata": {},
   "source": [
    "#### Check date range"
   ]
  },
  {
   "cell_type": "code",
   "execution_count": 6,
   "id": "b61523f4-546a-460b-bb83-793c1d8e105b",
   "metadata": {},
   "outputs": [],
   "source": [
    "df['order_date'] = pd.to_datetime(df['order_date'], format='%Y-%m-%d', errors='coerce')"
   ]
  },
  {
   "cell_type": "code",
   "execution_count": 7,
   "id": "8c109124-81a6-4d76-bedd-58f90d547f56",
   "metadata": {},
   "outputs": [],
   "source": [
    "df = df[(df.order_date.dt.year > 1999) & (df.order_date.dt.year < 2025)]\n",
    "\n"
   ]
  },
  {
   "cell_type": "code",
   "execution_count": 8,
   "id": "12634be4-2a33-4e8b-b39e-b0a6ead1d389",
   "metadata": {},
   "outputs": [
    {
     "data": {
      "text/plain": [
       "order_id         1604\n",
       "customer_id      1604\n",
       "order_status     1604\n",
       "order_date       1604\n",
       "required_date    1604\n",
       "shipped_date     1434\n",
       "store_id         1604\n",
       "staff_id         1604\n",
       "timestamp        1604\n",
       "source           1604\n",
       "dtype: int64"
      ]
     },
     "execution_count": 8,
     "metadata": {},
     "output_type": "execute_result"
    }
   ],
   "source": [
    "df.count()"
   ]
  },
  {
   "cell_type": "markdown",
   "id": "7f97bca6-f36f-4875-bda8-320d7f992294",
   "metadata": {},
   "source": [
    "#### Save to Staging"
   ]
  },
  {
   "cell_type": "code",
   "execution_count": 9,
   "id": "b7652f1a-e961-445f-ad83-f28672d9dbfb",
   "metadata": {},
   "outputs": [],
   "source": [
    "# Create the staging directory\n",
    "import os\n",
    "directory_path = '../staging_1'\n",
    "\n",
    "# Create the directory if it does not exist\n",
    "os.makedirs(directory_path, exist_ok=True)\n",
    "os.makedirs(f\"{directory_path}/orders\", exist_ok=True)\n",
    "df.to_csv(\"../staging_1/orders/orders.csv\", index=False)"
   ]
  },
  {
   "cell_type": "markdown",
   "id": "a79e5ef0-4fc9-4155-8f44-f05af3d69d00",
   "metadata": {},
   "source": [
    "<hr>"
   ]
  }
 ],
 "metadata": {
  "kernelspec": {
   "display_name": "Python 3 (ipykernel)",
   "language": "python",
   "name": "python3"
  },
  "language_info": {
   "codemirror_mode": {
    "name": "ipython",
    "version": 3
   },
   "file_extension": ".py",
   "mimetype": "text/x-python",
   "name": "python",
   "nbconvert_exporter": "python",
   "pygments_lexer": "ipython3",
   "version": "3.9.5"
  }
 },
 "nbformat": 4,
 "nbformat_minor": 5
}
