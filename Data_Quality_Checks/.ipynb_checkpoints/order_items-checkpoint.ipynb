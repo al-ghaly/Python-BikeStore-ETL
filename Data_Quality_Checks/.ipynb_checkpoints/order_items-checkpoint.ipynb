{
 "cells": [
  {
   "cell_type": "code",
   "execution_count": 1,
   "id": "471be010-2e97-4376-8989-edb5c06ff426",
   "metadata": {},
   "outputs": [],
   "source": [
    "import pandas as pd"
   ]
  },
  {
   "cell_type": "code",
   "execution_count": 2,
   "id": "c94ce47d-ac31-47fc-aaa7-37ac3697b7bf",
   "metadata": {},
   "outputs": [],
   "source": [
    "df = pd.read_csv('../Landing/order_items/order_items.csv')"
   ]
  },
  {
   "cell_type": "markdown",
   "id": "009b4314-ba5b-46fa-ae27-348e323ca684",
   "metadata": {},
   "source": [
    "### Check for nulls"
   ]
  },
  {
   "cell_type": "code",
   "execution_count": 3,
   "id": "b83803ea-4f8b-4831-bcd3-ea6082bdadd9",
   "metadata": {},
   "outputs": [
    {
     "name": "stdout",
     "output_type": "stream",
     "text": [
      "<class 'pandas.core.frame.DataFrame'>\n",
      "RangeIndex: 4763 entries, 0 to 4762\n",
      "Data columns (total 8 columns):\n",
      " #   Column      Non-Null Count  Dtype  \n",
      "---  ------      --------------  -----  \n",
      " 0   order_id    4763 non-null   int64  \n",
      " 1   item_id     4763 non-null   object \n",
      " 2   product_id  4763 non-null   int64  \n",
      " 3   quantity    4763 non-null   int64  \n",
      " 4   list_price  4763 non-null   float64\n",
      " 5   discount    4763 non-null   float64\n",
      " 6   timestamp   4763 non-null   object \n",
      " 7   source      4763 non-null   object \n",
      "dtypes: float64(2), int64(3), object(3)\n",
      "memory usage: 297.8+ KB\n"
     ]
    }
   ],
   "source": [
    "df.info()"
   ]
  },
  {
   "cell_type": "code",
   "execution_count": 52,
   "id": "b323a5b4-dc83-4366-9339-f7b55157278d",
   "metadata": {},
   "outputs": [
    {
     "data": {
      "text/plain": [
       "order_id      4760\n",
       "item_id       4760\n",
       "product_id    4760\n",
       "quantity      4760\n",
       "list_price    4760\n",
       "discount      4760\n",
       "timestamp     4760\n",
       "source        4760\n",
       "dtype: int64"
      ]
     },
     "execution_count": 52,
     "metadata": {},
     "output_type": "execute_result"
    }
   ],
   "source": [
    "df.count()"
   ]
  },
  {
   "cell_type": "markdown",
   "id": "613fa644-61e2-40cb-ab11-65a10207780b",
   "metadata": {},
   "source": [
    "#### No Nulls found"
   ]
  },
  {
   "cell_type": "markdown",
   "id": "e01d94ba-2205-4403-bc7f-dc6b660f0376",
   "metadata": {},
   "source": [
    "#### Filter the price Range"
   ]
  },
  {
   "cell_type": "code",
   "execution_count": 53,
   "id": "3dfbb98f-3d48-449d-8a32-7097c54eb5c9",
   "metadata": {},
   "outputs": [
    {
     "data": {
      "text/plain": [
       "count      4760.000000\n",
       "mean       1443.885174\n",
       "std        5014.606014\n",
       "min          89.990000\n",
       "25%         429.000000\n",
       "50%         599.990000\n",
       "75%        1549.000000\n",
       "max      259999.000000\n",
       "Name: list_price, dtype: float64"
      ]
     },
     "execution_count": 53,
     "metadata": {},
     "output_type": "execute_result"
    }
   ],
   "source": [
    "df.list_price.describe()"
   ]
  },
  {
   "cell_type": "code",
   "execution_count": 54,
   "id": "8155035d-56ae-45fd-814b-e95a18218831",
   "metadata": {},
   "outputs": [],
   "source": [
    "df = df[(df['list_price'] >= 200) & (df['list_price'] <= 10000)]"
   ]
  },
  {
   "cell_type": "code",
   "execution_count": 55,
   "id": "53d21b8b-1d5a-41e9-ab39-f5fce23454aa",
   "metadata": {},
   "outputs": [
    {
     "data": {
      "text/plain": [
       "count    4635.000000\n",
       "mean     1232.944006\n",
       "std      1334.459095\n",
       "min       209.990000\n",
       "25%       429.990000\n",
       "50%       599.990000\n",
       "75%      1549.000000\n",
       "max      7499.990000\n",
       "Name: list_price, dtype: float64"
      ]
     },
     "execution_count": 55,
     "metadata": {},
     "output_type": "execute_result"
    }
   ],
   "source": [
    "df.list_price.describe()"
   ]
  },
  {
   "cell_type": "markdown",
   "id": "cf6db30e-8418-43bc-94c2-ffd72390d779",
   "metadata": {},
   "source": [
    "#### Check Item ID"
   ]
  },
  {
   "cell_type": "code",
   "execution_count": 56,
   "id": "ed0babf9-88cf-4940-92e9-124ff1fbe323",
   "metadata": {},
   "outputs": [
    {
     "data": {
      "text/plain": [
       "True"
      ]
     },
     "execution_count": 56,
     "metadata": {},
     "output_type": "execute_result"
    }
   ],
   "source": [
    "df[['order_id', 'item_id', 'product_id']].duplicated().any()"
   ]
  },
  {
   "cell_type": "code",
   "execution_count": 71,
   "id": "6d22c312-7a72-4188-9b3f-41b0cee1b115",
   "metadata": {},
   "outputs": [],
   "source": [
    "df = df[~df[['order_id', 'item_id', 'product_id']].duplicated()]"
   ]
  },
  {
   "cell_type": "code",
   "execution_count": 64,
   "id": "258e14b4-3f6a-40ec-ad90-e7f480cf55f0",
   "metadata": {},
   "outputs": [
    {
     "data": {
      "text/plain": [
       "False"
      ]
     },
     "execution_count": 64,
     "metadata": {},
     "output_type": "execute_result"
    }
   ],
   "source": [
    "df[['order_id', 'item_id', 'product_id']].duplicated().any()"
   ]
  },
  {
   "cell_type": "markdown",
   "id": "524de751-9097-4c25-a309-66ad62e84d30",
   "metadata": {},
   "source": [
    "#### Handle non integer item ids"
   ]
  },
  {
   "cell_type": "code",
   "execution_count": 4,
   "id": "a4c1ef01-4dea-4c52-bcd6-e3d930bfe83a",
   "metadata": {},
   "outputs": [
    {
     "data": {
      "text/html": [
       "<div>\n",
       "<style scoped>\n",
       "    .dataframe tbody tr th:only-of-type {\n",
       "        vertical-align: middle;\n",
       "    }\n",
       "\n",
       "    .dataframe tbody tr th {\n",
       "        vertical-align: top;\n",
       "    }\n",
       "\n",
       "    .dataframe thead th {\n",
       "        text-align: right;\n",
       "    }\n",
       "</style>\n",
       "<table border=\"1\" class=\"dataframe\">\n",
       "  <thead>\n",
       "    <tr style=\"text-align: right;\">\n",
       "      <th></th>\n",
       "      <th>order_id</th>\n",
       "      <th>item_id</th>\n",
       "      <th>product_id</th>\n",
       "      <th>quantity</th>\n",
       "      <th>list_price</th>\n",
       "      <th>discount</th>\n",
       "      <th>timestamp</th>\n",
       "      <th>source</th>\n",
       "    </tr>\n",
       "  </thead>\n",
       "  <tbody>\n",
       "    <tr>\n",
       "      <th>4758</th>\n",
       "      <td>1615</td>\n",
       "      <td>17</td>\n",
       "      <td>214</td>\n",
       "      <td>1</td>\n",
       "      <td>899.99</td>\n",
       "      <td>0.07</td>\n",
       "      <td>2024-04-28 18:26:15.337129</td>\n",
       "      <td>Database</td>\n",
       "    </tr>\n",
       "    <tr>\n",
       "      <th>4759</th>\n",
       "      <td>1615</td>\n",
       "      <td>9</td>\n",
       "      <td>182</td>\n",
       "      <td>1</td>\n",
       "      <td>2499.99</td>\n",
       "      <td>0.20</td>\n",
       "      <td>2024-04-28 18:26:15.337129</td>\n",
       "      <td>Database</td>\n",
       "    </tr>\n",
       "    <tr>\n",
       "      <th>4760</th>\n",
       "      <td>1615</td>\n",
       "      <td>sz258l</td>\n",
       "      <td>197</td>\n",
       "      <td>2</td>\n",
       "      <td>2299.99</td>\n",
       "      <td>0.20</td>\n",
       "      <td>2024-04-28 18:26:15.337129</td>\n",
       "      <td>Database</td>\n",
       "    </tr>\n",
       "    <tr>\n",
       "      <th>4761</th>\n",
       "      <td>1615</td>\n",
       "      <td>sz258l</td>\n",
       "      <td>214</td>\n",
       "      <td>1</td>\n",
       "      <td>899.99</td>\n",
       "      <td>0.07</td>\n",
       "      <td>2024-04-28 18:26:15.337129</td>\n",
       "      <td>Database</td>\n",
       "    </tr>\n",
       "    <tr>\n",
       "      <th>4762</th>\n",
       "      <td>1615</td>\n",
       "      <td>sz2589</td>\n",
       "      <td>182</td>\n",
       "      <td>1</td>\n",
       "      <td>2499.99</td>\n",
       "      <td>0.20</td>\n",
       "      <td>2024-04-28 18:26:15.337129</td>\n",
       "      <td>Database</td>\n",
       "    </tr>\n",
       "  </tbody>\n",
       "</table>\n",
       "</div>"
      ],
      "text/plain": [
       "      order_id item_id  product_id  quantity  list_price  discount  \\\n",
       "4758      1615      17         214         1      899.99      0.07   \n",
       "4759      1615       9         182         1     2499.99      0.20   \n",
       "4760      1615  sz258l         197         2     2299.99      0.20   \n",
       "4761      1615  sz258l         214         1      899.99      0.07   \n",
       "4762      1615  sz2589         182         1     2499.99      0.20   \n",
       "\n",
       "                       timestamp    source  \n",
       "4758  2024-04-28 18:26:15.337129  Database  \n",
       "4759  2024-04-28 18:26:15.337129  Database  \n",
       "4760  2024-04-28 18:26:15.337129  Database  \n",
       "4761  2024-04-28 18:26:15.337129  Database  \n",
       "4762  2024-04-28 18:26:15.337129  Database  "
      ]
     },
     "execution_count": 4,
     "metadata": {},
     "output_type": "execute_result"
    }
   ],
   "source": [
    "df.tail()"
   ]
  },
  {
   "cell_type": "code",
   "execution_count": 6,
   "id": "ba2d061e-b5c4-400b-9cba-8d43575ad267",
   "metadata": {},
   "outputs": [],
   "source": [
    "df['item_id'] = pd.to_numeric(df['item_id'], errors='coerce')\n",
    "df = df.dropna(subset=['item_id'])\n",
    "\n",
    "# Convert the column to integer\n",
    "df['item_id'] = df['item_id'].astype(int)"
   ]
  },
  {
   "cell_type": "code",
   "execution_count": 7,
   "id": "105a8c77-91dd-40e7-99b0-cd219edfd752",
   "metadata": {},
   "outputs": [
    {
     "data": {
      "text/html": [
       "<div>\n",
       "<style scoped>\n",
       "    .dataframe tbody tr th:only-of-type {\n",
       "        vertical-align: middle;\n",
       "    }\n",
       "\n",
       "    .dataframe tbody tr th {\n",
       "        vertical-align: top;\n",
       "    }\n",
       "\n",
       "    .dataframe thead th {\n",
       "        text-align: right;\n",
       "    }\n",
       "</style>\n",
       "<table border=\"1\" class=\"dataframe\">\n",
       "  <thead>\n",
       "    <tr style=\"text-align: right;\">\n",
       "      <th></th>\n",
       "      <th>order_id</th>\n",
       "      <th>item_id</th>\n",
       "      <th>product_id</th>\n",
       "      <th>quantity</th>\n",
       "      <th>list_price</th>\n",
       "      <th>discount</th>\n",
       "      <th>timestamp</th>\n",
       "      <th>source</th>\n",
       "    </tr>\n",
       "  </thead>\n",
       "  <tbody>\n",
       "    <tr>\n",
       "      <th>4755</th>\n",
       "      <td>1615</td>\n",
       "      <td>60</td>\n",
       "      <td>182</td>\n",
       "      <td>1</td>\n",
       "      <td>2499.99</td>\n",
       "      <td>0.20</td>\n",
       "      <td>2024-04-28 18:26:15.337129</td>\n",
       "      <td>Database</td>\n",
       "    </tr>\n",
       "    <tr>\n",
       "      <th>4756</th>\n",
       "      <td>1614</td>\n",
       "      <td>14</td>\n",
       "      <td>213</td>\n",
       "      <td>2</td>\n",
       "      <td>269.99</td>\n",
       "      <td>0.20</td>\n",
       "      <td>2024-04-28 18:26:15.337129</td>\n",
       "      <td>Database</td>\n",
       "    </tr>\n",
       "    <tr>\n",
       "      <th>4757</th>\n",
       "      <td>1615</td>\n",
       "      <td>22</td>\n",
       "      <td>197</td>\n",
       "      <td>2</td>\n",
       "      <td>2299.99</td>\n",
       "      <td>0.20</td>\n",
       "      <td>2024-04-28 18:26:15.337129</td>\n",
       "      <td>Database</td>\n",
       "    </tr>\n",
       "    <tr>\n",
       "      <th>4758</th>\n",
       "      <td>1615</td>\n",
       "      <td>17</td>\n",
       "      <td>214</td>\n",
       "      <td>1</td>\n",
       "      <td>899.99</td>\n",
       "      <td>0.07</td>\n",
       "      <td>2024-04-28 18:26:15.337129</td>\n",
       "      <td>Database</td>\n",
       "    </tr>\n",
       "    <tr>\n",
       "      <th>4759</th>\n",
       "      <td>1615</td>\n",
       "      <td>9</td>\n",
       "      <td>182</td>\n",
       "      <td>1</td>\n",
       "      <td>2499.99</td>\n",
       "      <td>0.20</td>\n",
       "      <td>2024-04-28 18:26:15.337129</td>\n",
       "      <td>Database</td>\n",
       "    </tr>\n",
       "  </tbody>\n",
       "</table>\n",
       "</div>"
      ],
      "text/plain": [
       "      order_id  item_id  product_id  quantity  list_price  discount  \\\n",
       "4755      1615       60         182         1     2499.99      0.20   \n",
       "4756      1614       14         213         2      269.99      0.20   \n",
       "4757      1615       22         197         2     2299.99      0.20   \n",
       "4758      1615       17         214         1      899.99      0.07   \n",
       "4759      1615        9         182         1     2499.99      0.20   \n",
       "\n",
       "                       timestamp    source  \n",
       "4755  2024-04-28 18:26:15.337129  Database  \n",
       "4756  2024-04-28 18:26:15.337129  Database  \n",
       "4757  2024-04-28 18:26:15.337129  Database  \n",
       "4758  2024-04-28 18:26:15.337129  Database  \n",
       "4759  2024-04-28 18:26:15.337129  Database  "
      ]
     },
     "execution_count": 7,
     "metadata": {},
     "output_type": "execute_result"
    }
   ],
   "source": [
    "df.tail()"
   ]
  },
  {
   "cell_type": "code",
   "execution_count": 8,
   "id": "83d976e2-a310-4b09-9bf9-09fbf59dbfb9",
   "metadata": {},
   "outputs": [
    {
     "name": "stdout",
     "output_type": "stream",
     "text": [
      "<class 'pandas.core.frame.DataFrame'>\n",
      "Index: 4760 entries, 0 to 4759\n",
      "Data columns (total 8 columns):\n",
      " #   Column      Non-Null Count  Dtype  \n",
      "---  ------      --------------  -----  \n",
      " 0   order_id    4760 non-null   int64  \n",
      " 1   item_id     4760 non-null   int32  \n",
      " 2   product_id  4760 non-null   int64  \n",
      " 3   quantity    4760 non-null   int64  \n",
      " 4   list_price  4760 non-null   float64\n",
      " 5   discount    4760 non-null   float64\n",
      " 6   timestamp   4760 non-null   object \n",
      " 7   source      4760 non-null   object \n",
      "dtypes: float64(2), int32(1), int64(3), object(2)\n",
      "memory usage: 316.1+ KB\n"
     ]
    }
   ],
   "source": [
    "df.info()"
   ]
  },
  {
   "cell_type": "markdown",
   "id": "9fef080a-294e-4df4-9936-2e7d24e506d4",
   "metadata": {},
   "source": [
    "#### Check availability of item id"
   ]
  },
  {
   "cell_type": "code",
   "execution_count": 72,
   "id": "f8673573-c7da-4c52-87c9-026ac090ef64",
   "metadata": {},
   "outputs": [],
   "source": [
    "df2 = pd.read_csv('../Landing/products/products.csv')"
   ]
  },
  {
   "cell_type": "code",
   "execution_count": 73,
   "id": "39e746ec-d5c9-4aba-bcdc-bb4865614a3a",
   "metadata": {},
   "outputs": [],
   "source": [
    "df = df[df.item_id.isin(df2.product_id)]"
   ]
  },
  {
   "cell_type": "code",
   "execution_count": 74,
   "id": "ab996074-8b65-4ffe-86e2-fb797cd1b08a",
   "metadata": {},
   "outputs": [
    {
     "data": {
      "text/plain": [
       "order_id      4726\n",
       "item_id       4726\n",
       "product_id    4726\n",
       "quantity      4726\n",
       "list_price    4726\n",
       "discount      4726\n",
       "timestamp     4726\n",
       "source        4726\n",
       "dtype: int64"
      ]
     },
     "execution_count": 74,
     "metadata": {},
     "output_type": "execute_result"
    }
   ],
   "source": [
    "df.count()"
   ]
  },
  {
   "cell_type": "markdown",
   "id": "f178588b-7af1-4c43-8453-4484b06c9109",
   "metadata": {},
   "source": [
    "#### Save to staging"
   ]
  },
  {
   "cell_type": "code",
   "execution_count": 11,
   "id": "fae3b41e-8ec8-4cf5-b14d-7618d933aa04",
   "metadata": {},
   "outputs": [],
   "source": [
    "# Create the staging directory\n",
    "import os\n",
    "directory_path = '../staging_1'\n",
    "\n",
    "# Create the directory if it does not exist\n",
    "os.makedirs(directory_path, exist_ok=True)\n",
    "os.makedirs(f\"{directory_path}/order_items\", exist_ok=True)\n",
    "df.to_csv(\"../staging_1/order_items/order_items.csv\", index=False)"
   ]
  },
  {
   "cell_type": "markdown",
   "id": "a79e5ef0-4fc9-4155-8f44-f05af3d69d00",
   "metadata": {},
   "source": [
    "<hr>"
   ]
  }
 ],
 "metadata": {
  "kernelspec": {
   "display_name": "Python 3 (ipykernel)",
   "language": "python",
   "name": "python3"
  },
  "language_info": {
   "codemirror_mode": {
    "name": "ipython",
    "version": 3
   },
   "file_extension": ".py",
   "mimetype": "text/x-python",
   "name": "python",
   "nbconvert_exporter": "python",
   "pygments_lexer": "ipython3",
   "version": "3.9.5"
  }
 },
 "nbformat": 4,
 "nbformat_minor": 5
}
