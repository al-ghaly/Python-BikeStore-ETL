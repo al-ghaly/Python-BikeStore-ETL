{
 "cells": [
  {
   "cell_type": "code",
   "execution_count": 1,
   "id": "471be010-2e97-4376-8989-edb5c06ff426",
   "metadata": {},
   "outputs": [],
   "source": [
    "import pandas as pd"
   ]
  },
  {
   "cell_type": "code",
   "execution_count": 2,
   "id": "c94ce47d-ac31-47fc-aaa7-37ac3697b7bf",
   "metadata": {},
   "outputs": [],
   "source": [
    "df = pd.read_csv('../Landing/products/products.csv')"
   ]
  },
  {
   "cell_type": "markdown",
   "id": "009b4314-ba5b-46fa-ae27-348e323ca684",
   "metadata": {},
   "source": [
    "### Check for nulls"
   ]
  },
  {
   "cell_type": "code",
   "execution_count": 3,
   "id": "b83803ea-4f8b-4831-bcd3-ea6082bdadd9",
   "metadata": {},
   "outputs": [
    {
     "name": "stdout",
     "output_type": "stream",
     "text": [
      "<class 'pandas.core.frame.DataFrame'>\n",
      "RangeIndex: 334 entries, 0 to 333\n",
      "Data columns (total 9 columns):\n",
      " #   Column        Non-Null Count  Dtype  \n",
      "---  ------        --------------  -----  \n",
      " 0   Unnamed: 0    334 non-null    int64  \n",
      " 1   product_id    334 non-null    int64  \n",
      " 2   product_name  334 non-null    object \n",
      " 3   brand_id      334 non-null    int64  \n",
      " 4   category_id   334 non-null    int64  \n",
      " 5   model_year    334 non-null    int64  \n",
      " 6   list_price    334 non-null    float64\n",
      " 7   timestamp     334 non-null    object \n",
      " 8   source        334 non-null    object \n",
      "dtypes: float64(1), int64(5), object(3)\n",
      "memory usage: 23.6+ KB\n"
     ]
    }
   ],
   "source": [
    "df.info()"
   ]
  },
  {
   "cell_type": "code",
   "execution_count": 4,
   "id": "b323a5b4-dc83-4366-9339-f7b55157278d",
   "metadata": {},
   "outputs": [
    {
     "data": {
      "text/plain": [
       "Unnamed: 0      334\n",
       "product_id      334\n",
       "product_name    334\n",
       "brand_id        334\n",
       "category_id     334\n",
       "model_year      334\n",
       "list_price      334\n",
       "timestamp       334\n",
       "source          334\n",
       "dtype: int64"
      ]
     },
     "execution_count": 4,
     "metadata": {},
     "output_type": "execute_result"
    }
   ],
   "source": [
    "df.count()"
   ]
  },
  {
   "cell_type": "markdown",
   "id": "613fa644-61e2-40cb-ab11-65a10207780b",
   "metadata": {},
   "source": [
    "#### No Nulls found"
   ]
  },
  {
   "cell_type": "code",
   "execution_count": 5,
   "id": "52032ad0-4036-429a-a6f4-5d60d450d493",
   "metadata": {},
   "outputs": [],
   "source": [
    "df = df[~df.product_id.duplicated()]"
   ]
  },
  {
   "cell_type": "markdown",
   "id": "41933314-5e03-40d7-9f20-10cbd6792703",
   "metadata": {},
   "source": [
    "#### Duplicate Rows Removed"
   ]
  },
  {
   "cell_type": "markdown",
   "id": "2e21659e-e3ce-45c6-975e-dae6df215ef2",
   "metadata": {},
   "source": [
    "#### Save to Staging"
   ]
  },
  {
   "cell_type": "code",
   "execution_count": 6,
   "id": "13cdaee0-6b1b-4408-b1dd-d0d9135025e7",
   "metadata": {},
   "outputs": [],
   "source": [
    "# Create the staging directory\n",
    "import os\n",
    "directory_path = '../staging_1'\n",
    "\n",
    "# Create the directory if it does not exist\n",
    "os.makedirs(directory_path, exist_ok=True)\n",
    "os.makedirs(f\"{directory_path}/products\", exist_ok=True)\n",
    "df.to_csv(\"../staging_1/products/products.csv\", index=False)"
   ]
  },
  {
   "cell_type": "markdown",
   "id": "a79e5ef0-4fc9-4155-8f44-f05af3d69d00",
   "metadata": {},
   "source": [
    "<hr>"
   ]
  }
 ],
 "metadata": {
  "kernelspec": {
   "display_name": "Python 3 (ipykernel)",
   "language": "python",
   "name": "python3"
  },
  "language_info": {
   "codemirror_mode": {
    "name": "ipython",
    "version": 3
   },
   "file_extension": ".py",
   "mimetype": "text/x-python",
   "name": "python",
   "nbconvert_exporter": "python",
   "pygments_lexer": "ipython3",
   "version": "3.9.5"
  }
 },
 "nbformat": 4,
 "nbformat_minor": 5
}
