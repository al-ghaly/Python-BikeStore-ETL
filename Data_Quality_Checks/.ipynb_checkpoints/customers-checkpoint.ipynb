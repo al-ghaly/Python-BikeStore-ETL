{
 "cells": [
  {
   "cell_type": "code",
   "execution_count": 1,
   "id": "471be010-2e97-4376-8989-edb5c06ff426",
   "metadata": {},
   "outputs": [],
   "source": [
    "import pandas as pd"
   ]
  },
  {
   "cell_type": "code",
   "execution_count": 2,
   "id": "c94ce47d-ac31-47fc-aaa7-37ac3697b7bf",
   "metadata": {},
   "outputs": [],
   "source": [
    "df = pd.read_csv('../Landing/customers/customers.csv')"
   ]
  },
  {
   "cell_type": "markdown",
   "id": "009b4314-ba5b-46fa-ae27-348e323ca684",
   "metadata": {},
   "source": [
    "### Check for nulls"
   ]
  },
  {
   "cell_type": "code",
   "execution_count": 3,
   "id": "b83803ea-4f8b-4831-bcd3-ea6082bdadd9",
   "metadata": {},
   "outputs": [
    {
     "name": "stdout",
     "output_type": "stream",
     "text": [
      "<class 'pandas.core.frame.DataFrame'>\n",
      "RangeIndex: 1445 entries, 0 to 1444\n",
      "Data columns (total 12 columns):\n",
      " #   Column       Non-Null Count  Dtype \n",
      "---  ------       --------------  ----- \n",
      " 0   Unnamed: 0   1445 non-null   int64 \n",
      " 1   customer_id  1445 non-null   int64 \n",
      " 2   first_name   1445 non-null   object\n",
      " 3   last_name    1445 non-null   object\n",
      " 4   phone        178 non-null    object\n",
      " 5   email        1445 non-null   object\n",
      " 6   street       1445 non-null   object\n",
      " 7   city         1445 non-null   object\n",
      " 8   state        1445 non-null   object\n",
      " 9   zip_code     1445 non-null   int64 \n",
      " 10  timestamp    1445 non-null   object\n",
      " 11  source       1445 non-null   object\n",
      "dtypes: int64(3), object(9)\n",
      "memory usage: 135.6+ KB\n"
     ]
    }
   ],
   "source": [
    "df.info()"
   ]
  },
  {
   "cell_type": "code",
   "execution_count": 4,
   "id": "b323a5b4-dc83-4366-9339-f7b55157278d",
   "metadata": {},
   "outputs": [
    {
     "data": {
      "text/plain": [
       "Unnamed: 0     1445\n",
       "customer_id    1445\n",
       "first_name     1445\n",
       "last_name      1445\n",
       "phone           178\n",
       "email          1445\n",
       "street         1445\n",
       "city           1445\n",
       "state          1445\n",
       "zip_code       1445\n",
       "timestamp      1445\n",
       "source         1445\n",
       "dtype: int64"
      ]
     },
     "execution_count": 4,
     "metadata": {},
     "output_type": "execute_result"
    }
   ],
   "source": [
    "df.count()"
   ]
  },
  {
   "cell_type": "markdown",
   "id": "613fa644-61e2-40cb-ab11-65a10207780b",
   "metadata": {},
   "source": [
    "#### No Nulls found"
   ]
  },
  {
   "cell_type": "code",
   "execution_count": 5,
   "id": "52032ad0-4036-429a-a6f4-5d60d450d493",
   "metadata": {},
   "outputs": [
    {
     "data": {
      "text/plain": [
       "False"
      ]
     },
     "execution_count": 5,
     "metadata": {},
     "output_type": "execute_result"
    }
   ],
   "source": [
    "df.customer_id.duplicated().any()"
   ]
  },
  {
   "cell_type": "markdown",
   "id": "41933314-5e03-40d7-9f20-10cbd6792703",
   "metadata": {},
   "source": [
    "#### No duplicates in any columns"
   ]
  },
  {
   "cell_type": "markdown",
   "id": "f7dfec9d-7df6-4650-b39e-0f88e39393fb",
   "metadata": {},
   "source": [
    "#### Save to Staging"
   ]
  },
  {
   "cell_type": "code",
   "execution_count": 6,
   "id": "eed224da-03e2-44cc-92e1-236fab172d10",
   "metadata": {},
   "outputs": [],
   "source": [
    "# Create the staging directory\n",
    "import os\n",
    "directory_path = '../staging_1'\n",
    "\n",
    "# Create the directory if it does not exist\n",
    "os.makedirs(directory_path, exist_ok=True)\n",
    "os.makedirs(f\"{directory_path}/customers\", exist_ok=True)\n",
    "df.to_csv(\"../staging_1/customers/customers.csv\", index=False)"
   ]
  },
  {
   "cell_type": "markdown",
   "id": "a79e5ef0-4fc9-4155-8f44-f05af3d69d00",
   "metadata": {},
   "source": [
    "<hr>"
   ]
  }
 ],
 "metadata": {
  "kernelspec": {
   "display_name": "Python 3 (ipykernel)",
   "language": "python",
   "name": "python3"
  },
  "language_info": {
   "codemirror_mode": {
    "name": "ipython",
    "version": 3
   },
   "file_extension": ".py",
   "mimetype": "text/x-python",
   "name": "python",
   "nbconvert_exporter": "python",
   "pygments_lexer": "ipython3",
   "version": "3.9.5"
  }
 },
 "nbformat": 4,
 "nbformat_minor": 5
}
