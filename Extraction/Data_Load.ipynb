{
 "cells": [
  {
   "cell_type": "markdown",
   "id": "96ad122e-de11-44c7-b4cd-6d5e69255151",
   "metadata": {},
   "source": [
    "Import needed Libraries"
   ]
  },
  {
   "cell_type": "code",
   "execution_count": 3,
   "id": "1ebb6cc2-43b6-480b-8caa-461bd2b7f039",
   "metadata": {},
   "outputs": [],
   "source": [
    "import pandas as pd\n",
    "import os\n",
    "import datetime"
   ]
  },
  {
   "cell_type": "markdown",
   "id": "46311bc1-0751-4c9a-b47c-00aef6f94470",
   "metadata": {},
   "source": [
    "Create a list of all directories in the Source System"
   ]
  },
  {
   "cell_type": "code",
   "execution_count": 4,
   "id": "0bc206b9-14af-48ec-8a56-705115a5e0ab",
   "metadata": {},
   "outputs": [
    {
     "name": "stdout",
     "output_type": "stream",
     "text": [
      "Directory: brands Detected\n",
      "Directory: categories Detected\n",
      "Directory: customers Detected\n",
      "Directory: products Detected\n",
      "Directory: staffs Detected\n",
      "Directory: stocks Detected\n",
      "Directory: stores Detected\n"
     ]
    }
   ],
   "source": [
    "folder_path = '../bikestore_dim'\n",
    "directories = []\n",
    "\n",
    "for filename in os.listdir(folder_path):\n",
    "    file_path = os.path.join(folder_path, filename)\n",
    "    if os.path.isdir(file_path):\n",
    "        print(f\"Directory: {filename} Detected\")\n",
    "        directories.append(filename)"
   ]
  },
  {
   "cell_type": "markdown",
   "id": "1cb98db4-d292-461a-9f69-89a19d313865",
   "metadata": {},
   "source": [
    "#### Create the directories in the Target System"
   ]
  },
  {
   "cell_type": "code",
   "execution_count": 5,
   "id": "683c6bbe-ebc4-4255-9e1e-aca2ad05d328",
   "metadata": {},
   "outputs": [
    {
     "name": "stdout",
     "output_type": "stream",
     "text": [
      "Folder '../landing/brands' already exists.\n",
      "Folder '../landing/categories' already exists.\n",
      "Folder '../landing/customers' already exists.\n",
      "Folder '../landing/products' already exists.\n",
      "Folder '../landing/staffs' already exists.\n",
      "Folder '../landing/stocks' already exists.\n",
      "Folder '../landing/stores' already exists.\n"
     ]
    }
   ],
   "source": [
    "import os\n",
    "\n",
    "# Specify the path of the new directory\n",
    "for dir in directories:\n",
    "    folder_path = f'../landing/{dir}'\n",
    "\n",
    "    # Create the directory\n",
    "    if not os.path.exists(folder_path):\n",
    "        os.makedirs(folder_path)\n",
    "        print(f\"Folder '{folder_path}' created successfully.\")\n",
    "    else:\n",
    "        print(f\"Folder '{folder_path}' already exists.\")\n"
   ]
  },
  {
   "cell_type": "markdown",
   "id": "1e6fb71e-e90f-4862-a6b0-84f8eb1295b7",
   "metadata": {},
   "source": [
    "#### Move the data from Source to target"
   ]
  },
  {
   "cell_type": "markdown",
   "id": "94c8b57a-3390-49b1-a2ca-dcc02293ce39",
   "metadata": {},
   "source": [
    "Create List of all files to copy"
   ]
  },
  {
   "cell_type": "code",
   "execution_count": 6,
   "id": "4c790196-5d98-49e9-b764-597d72fc4118",
   "metadata": {
    "scrolled": true
   },
   "outputs": [],
   "source": [
    "folder_path = '../bikestore_dim'\n",
    "file_names = []\n",
    "\n",
    "for root, dirs, files in os.walk(folder_path):\n",
    "\n",
    "    for name in files:\n",
    "        file_path = os.path.join(root, name).replace('\\\\', '/')\n",
    "        file_names.append(file_path)"
   ]
  },
  {
   "cell_type": "markdown",
   "id": "5c06a40d-f87f-4942-8ac9-12739b87763c",
   "metadata": {},
   "source": [
    "Copy the files"
   ]
  },
  {
   "cell_type": "code",
   "execution_count": 7,
   "id": "9e72a8cb-26d4-4a13-aee1-298bc6b087a4",
   "metadata": {},
   "outputs": [],
   "source": [
    "for file_name in file_names:\n",
    "    df = pd.read_csv(file_name)\n",
    "    current_timestamp = datetime.datetime.now()\n",
    "    df['timestamp'] = str(current_timestamp)\n",
    "    df['source'] = 'DataLake'\n",
    "    new_path = file_name.replace('bikestore_dim', 'Landing')\n",
    "    df.to_csv(new_path, index=False)"
   ]
  },
  {
   "cell_type": "markdown",
   "id": "c1d27c5d-d6fc-4fde-913f-099effb5a95b",
   "metadata": {},
   "source": [
    "<hr>"
   ]
  }
 ],
 "metadata": {
  "kernelspec": {
   "display_name": "Python 3 (ipykernel)",
   "language": "python",
   "name": "python3"
  },
  "language_info": {
   "codemirror_mode": {
    "name": "ipython",
    "version": 3
   },
   "file_extension": ".py",
   "mimetype": "text/x-python",
   "name": "python",
   "nbconvert_exporter": "python",
   "pygments_lexer": "ipython3",
   "version": "3.9.5"
  }
 },
 "nbformat": 4,
 "nbformat_minor": 5
}
