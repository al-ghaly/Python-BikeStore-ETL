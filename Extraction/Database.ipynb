{
 "cells": [
  {
   "cell_type": "code",
   "execution_count": 17,
   "id": "d1997057-c5e8-4924-a6d0-b373d524a286",
   "metadata": {},
   "outputs": [],
   "source": [
    "from sqlalchemy import create_engine\n",
    "import pyodbc\n",
    "import os\n",
    "conn = pyodbc.connect('Driver={SQL Server};'\n",
    "                      'Server=localhost\\\\SQLEXPRESS;'\n",
    "                      'Database=BIKESTORE;'\n",
    "                      'Trusted_connection=yes')"
   ]
  },
  {
   "cell_type": "code",
   "execution_count": 27,
   "id": "aa8851c6-b64e-4008-8107-bd0a019f2994",
   "metadata": {},
   "outputs": [
    {
     "name": "stderr",
     "output_type": "stream",
     "text": [
      "C:\\Users\\alghaly\\AppData\\Local\\Temp\\ipykernel_22272\\371413457.py:4: UserWarning: pandas only supports SQLAlchemy connectable (engine/connection) or database string URI or sqlite3 DBAPI2 connection. Other DBAPI2 objects are not tested. Please consider using SQLAlchemy.\n",
      "  df = pd.read_sql(query, conn)\n"
     ]
    }
   ],
   "source": [
    "query = \"SELECT * FROM general.orders\"\n",
    "\n",
    "# Load data into DataFrame\n",
    "df = pd.read_sql(query, conn)\n",
    "current_timestamp = datetime.datetime.now()\n",
    "df['timestamp'] = current_timestamp\n",
    "df['source'] = 'Database'\n",
    "if not os.path.exists('../landing/order'):\n",
    "        os.makedirs('../landing/order')\n",
    "df.to_csv('../landing/orders/orders.csv', index=False)"
   ]
  },
  {
   "cell_type": "code",
   "execution_count": 28,
   "id": "7a25b894-8f7f-4a4e-9acb-c1c13038df86",
   "metadata": {},
   "outputs": [
    {
     "name": "stderr",
     "output_type": "stream",
     "text": [
      "C:\\Users\\alghaly\\AppData\\Local\\Temp\\ipykernel_22272\\1996340633.py:4: UserWarning: pandas only supports SQLAlchemy connectable (engine/connection) or database string URI or sqlite3 DBAPI2 connection. Other DBAPI2 objects are not tested. Please consider using SQLAlchemy.\n",
      "  df = pd.read_sql(query, conn)\n"
     ]
    }
   ],
   "source": [
    "query = \"SELECT * FROM general.order_items\"\n",
    "\n",
    "# Load data into DataFrame\n",
    "df = pd.read_sql(query, conn)\n",
    "current_timestamp = datetime.datetime.now()\n",
    "df['timestamp'] = str(current_timestamp)\n",
    "df['source'] = 'Database'\n",
    "if not os.path.exists('../landing/order_items'):\n",
    "        os.makedirs('../landing/order_items')\n",
    "df.to_csv('../landing/order_items/order_items.csv', index=False)"
   ]
  },
  {
   "cell_type": "markdown",
   "id": "3c2b9f14-2840-439b-a401-bb5a7b035346",
   "metadata": {},
   "source": [
    "<hr>"
   ]
  }
 ],
 "metadata": {
  "kernelspec": {
   "display_name": "Python 3 (ipykernel)",
   "language": "python",
   "name": "python3"
  },
  "language_info": {
   "codemirror_mode": {
    "name": "ipython",
    "version": 3
   },
   "file_extension": ".py",
   "mimetype": "text/x-python",
   "name": "python",
   "nbconvert_exporter": "python",
   "pygments_lexer": "ipython3",
   "version": "3.9.5"
  }
 },
 "nbformat": 4,
 "nbformat_minor": 5
}
