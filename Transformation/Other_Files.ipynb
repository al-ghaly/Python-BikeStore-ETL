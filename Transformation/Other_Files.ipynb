{
 "cells": [
  {
   "cell_type": "code",
   "execution_count": 1,
   "id": "47752fa9-0f9c-4bbd-be8d-dd4491edde95",
   "metadata": {},
   "outputs": [],
   "source": [
    "import pandas as pd\n",
    "import os\n",
    "import numpy as np"
   ]
  },
  {
   "cell_type": "markdown",
   "id": "ba014c8d-fd12-4484-ac37-732938622499",
   "metadata": {},
   "source": [
    "### Apply Transformations"
   ]
  },
  {
   "cell_type": "code",
   "execution_count": 3,
   "id": "a38176c3-9137-47ac-a393-48814c8da6a9",
   "metadata": {},
   "outputs": [],
   "source": [
    "files = ['brands', 'categories', 'products', 'staffs', 'stocks', 'stores']\n",
    "for file in files:\n",
    "    df = pd.read_csv(f\"../staging_1/{file}/{file}.csv\")\n",
    "    \n",
    "    directory_path = '../staging_2'\n",
    "\n",
    "    # Create the directory if it does not exist\n",
    "    os.makedirs(directory_path, exist_ok=True)\n",
    "    os.makedirs(f\"{directory_path}/{file}\", exist_ok=True)\n",
    "    df.to_csv(f\"../staging_2/{file}/{file}.csv\", index=False)"
   ]
  }
 ],
 "metadata": {
  "kernelspec": {
   "display_name": "Python 3 (ipykernel)",
   "language": "python",
   "name": "python3"
  },
  "language_info": {
   "codemirror_mode": {
    "name": "ipython",
    "version": 3
   },
   "file_extension": ".py",
   "mimetype": "text/x-python",
   "name": "python",
   "nbconvert_exporter": "python",
   "pygments_lexer": "ipython3",
   "version": "3.9.5"
  }
 },
 "nbformat": 4,
 "nbformat_minor": 5
}
