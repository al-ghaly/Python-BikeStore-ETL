{
 "cells": [
  {
   "cell_type": "code",
   "execution_count": 23,
   "id": "47752fa9-0f9c-4bbd-be8d-dd4491edde95",
   "metadata": {},
   "outputs": [],
   "source": [
    "import pandas as pd\n",
    "import os\n",
    "import numpy as np"
   ]
  },
  {
   "cell_type": "markdown",
   "id": "ba014c8d-fd12-4484-ac37-732938622499",
   "metadata": {},
   "source": [
    "### Add List Price in EGP"
   ]
  },
  {
   "cell_type": "code",
   "execution_count": 13,
   "id": "a38176c3-9137-47ac-a393-48814c8da6a9",
   "metadata": {},
   "outputs": [],
   "source": [
    "order_items = pd.read_csv('../staging_1/order_items/order_items.csv')\n",
    "rates = pd.read_csv('../landing/exchange.csv')"
   ]
  },
  {
   "cell_type": "code",
   "execution_count": 14,
   "id": "5c94a464-01f9-4df0-942d-2cf92bb5e683",
   "metadata": {},
   "outputs": [
    {
     "data": {
      "text/html": [
       "<div>\n",
       "<style scoped>\n",
       "    .dataframe tbody tr th:only-of-type {\n",
       "        vertical-align: middle;\n",
       "    }\n",
       "\n",
       "    .dataframe tbody tr th {\n",
       "        vertical-align: top;\n",
       "    }\n",
       "\n",
       "    .dataframe thead th {\n",
       "        text-align: right;\n",
       "    }\n",
       "</style>\n",
       "<table border=\"1\" class=\"dataframe\">\n",
       "  <thead>\n",
       "    <tr style=\"text-align: right;\">\n",
       "      <th></th>\n",
       "      <th>order_id</th>\n",
       "      <th>item_id</th>\n",
       "      <th>product_id</th>\n",
       "      <th>quantity</th>\n",
       "      <th>list_price</th>\n",
       "      <th>discount</th>\n",
       "      <th>timestamp</th>\n",
       "      <th>source</th>\n",
       "    </tr>\n",
       "  </thead>\n",
       "  <tbody>\n",
       "    <tr>\n",
       "      <th>0</th>\n",
       "      <td>1</td>\n",
       "      <td>1</td>\n",
       "      <td>20</td>\n",
       "      <td>1</td>\n",
       "      <td>599.99</td>\n",
       "      <td>0.2</td>\n",
       "      <td>2024-04-28 18:26:15.337129</td>\n",
       "      <td>Database</td>\n",
       "    </tr>\n",
       "  </tbody>\n",
       "</table>\n",
       "</div>"
      ],
      "text/plain": [
       "   order_id  item_id  product_id  quantity  list_price  discount  \\\n",
       "0         1        1          20         1      599.99       0.2   \n",
       "\n",
       "                    timestamp    source  \n",
       "0  2024-04-28 18:26:15.337129  Database  "
      ]
     },
     "execution_count": 14,
     "metadata": {},
     "output_type": "execute_result"
    }
   ],
   "source": [
    "order_items.head(1)"
   ]
  },
  {
   "cell_type": "code",
   "execution_count": 15,
   "id": "948afb88-5b66-4ce4-a3ed-9a5717895b68",
   "metadata": {},
   "outputs": [
    {
     "data": {
      "text/html": [
       "<div>\n",
       "<style scoped>\n",
       "    .dataframe tbody tr th:only-of-type {\n",
       "        vertical-align: middle;\n",
       "    }\n",
       "\n",
       "    .dataframe tbody tr th {\n",
       "        vertical-align: top;\n",
       "    }\n",
       "\n",
       "    .dataframe thead th {\n",
       "        text-align: right;\n",
       "    }\n",
       "</style>\n",
       "<table border=\"1\" class=\"dataframe\">\n",
       "  <thead>\n",
       "    <tr style=\"text-align: right;\">\n",
       "      <th></th>\n",
       "      <th>Value</th>\n",
       "      <th>Timestamp</th>\n",
       "      <th>Sourc</th>\n",
       "      <th>timestamp</th>\n",
       "      <th>source</th>\n",
       "    </tr>\n",
       "  </thead>\n",
       "  <tbody>\n",
       "    <tr>\n",
       "      <th>0</th>\n",
       "      <td>47.861515</td>\n",
       "      <td>2024-04-28 14:00:14</td>\n",
       "      <td>API</td>\n",
       "      <td>2024-04-30 10:11:51.112186</td>\n",
       "      <td>DataLake</td>\n",
       "    </tr>\n",
       "  </tbody>\n",
       "</table>\n",
       "</div>"
      ],
      "text/plain": [
       "       Value            Timestamp Sourc                   timestamp    source\n",
       "0  47.861515  2024-04-28 14:00:14   API  2024-04-30 10:11:51.112186  DataLake"
      ]
     },
     "execution_count": 15,
     "metadata": {},
     "output_type": "execute_result"
    }
   ],
   "source": [
    "rates.head(1)"
   ]
  },
  {
   "cell_type": "markdown",
   "id": "cd7e7218-3b7f-4f7d-b435-aec1742bd1d9",
   "metadata": {},
   "source": [
    "**Filter on latest rate => In typical cases I will group by currency and keep only max date for each <br>As we have a single currency this is not needed we just get it's latest**\n"
   ]
  },
  {
   "cell_type": "code",
   "execution_count": 16,
   "id": "16f9de8a-8d64-4578-b07e-70c12077de72",
   "metadata": {},
   "outputs": [
    {
     "name": "stdout",
     "output_type": "stream",
     "text": [
      "<class 'pandas.core.frame.DataFrame'>\n",
      "RangeIndex: 1 entries, 0 to 0\n",
      "Data columns (total 5 columns):\n",
      " #   Column     Non-Null Count  Dtype  \n",
      "---  ------     --------------  -----  \n",
      " 0   Value      1 non-null      float64\n",
      " 1   Timestamp  1 non-null      object \n",
      " 2   Sourc      1 non-null      object \n",
      " 3   timestamp  1 non-null      object \n",
      " 4   source     1 non-null      object \n",
      "dtypes: float64(1), object(4)\n",
      "memory usage: 168.0+ bytes\n"
     ]
    }
   ],
   "source": [
    "rates.info()"
   ]
  },
  {
   "cell_type": "markdown",
   "id": "647f254c-da97-478c-ac99-a19b31209257",
   "metadata": {},
   "source": [
    "**We have 2 timestamps:<br>\n",
    "One for the API Call and one for loading the exchange rates file from source.<br>\n",
    "I will rename them in the pipeline**"
   ]
  },
  {
   "cell_type": "code",
   "execution_count": 17,
   "id": "957ea8e8-e4d4-4315-b10d-a8e106e0f7b4",
   "metadata": {},
   "outputs": [],
   "source": [
    "rates = rates.rename(columns={\n",
    "                    'Value': 'Exchange Rate',\n",
    "                    'Timestamp': 'API Call Timestamp',\n",
    "                    'timestamp': 'Data Load Timestamp'})"
   ]
  },
  {
   "cell_type": "code",
   "execution_count": 18,
   "id": "1f6ca400-4e47-40bf-9be2-233f1f2f5c3c",
   "metadata": {},
   "outputs": [],
   "source": [
    "rates['API Call Timestamp'] = pd.to_datetime(rates['API Call Timestamp'])\n",
    "\n",
    "# Sort the DataFrame by the 'Date' column in descending order\n",
    "rates = rates.sort_values(by='API Call Timestamp', ascending=False)\n",
    "\n",
    "# Select the first row (the row with the newest date)\n",
    "rates = rates.head()"
   ]
  },
  {
   "cell_type": "code",
   "execution_count": 19,
   "id": "80024dd8-e025-4d0e-8b86-16d75288ccc5",
   "metadata": {},
   "outputs": [],
   "source": [
    "# Cross Join the 2 tables\n",
    "order_items['_join_key'] = 1\n",
    "rates['_join_key'] = 1\n",
    "df = pd.merge(order_items, rates[['Exchange Rate', '_join_key']],\n",
    "                  on='_join_key').drop('_join_key', axis=1)"
   ]
  },
  {
   "cell_type": "code",
   "execution_count": 20,
   "id": "ce568fb6-dc68-4f0c-9529-225902ed6aa7",
   "metadata": {},
   "outputs": [],
   "source": [
    "df['list_price_egp'] = df.list_price * df['Exchange Rate']"
   ]
  },
  {
   "cell_type": "code",
   "execution_count": 21,
   "id": "dde017c7-5d18-4f53-8ff4-3eac66b1b685",
   "metadata": {},
   "outputs": [
    {
     "data": {
      "text/html": [
       "<div>\n",
       "<style scoped>\n",
       "    .dataframe tbody tr th:only-of-type {\n",
       "        vertical-align: middle;\n",
       "    }\n",
       "\n",
       "    .dataframe tbody tr th {\n",
       "        vertical-align: top;\n",
       "    }\n",
       "\n",
       "    .dataframe thead th {\n",
       "        text-align: right;\n",
       "    }\n",
       "</style>\n",
       "<table border=\"1\" class=\"dataframe\">\n",
       "  <thead>\n",
       "    <tr style=\"text-align: right;\">\n",
       "      <th></th>\n",
       "      <th>order_id</th>\n",
       "      <th>item_id</th>\n",
       "      <th>product_id</th>\n",
       "      <th>quantity</th>\n",
       "      <th>list_price</th>\n",
       "      <th>discount</th>\n",
       "      <th>timestamp</th>\n",
       "      <th>source</th>\n",
       "      <th>Exchange Rate</th>\n",
       "      <th>list_price_egp</th>\n",
       "    </tr>\n",
       "  </thead>\n",
       "  <tbody>\n",
       "    <tr>\n",
       "      <th>0</th>\n",
       "      <td>1</td>\n",
       "      <td>1</td>\n",
       "      <td>20</td>\n",
       "      <td>1</td>\n",
       "      <td>599.99</td>\n",
       "      <td>0.2</td>\n",
       "      <td>2024-04-28 18:26:15.337129</td>\n",
       "      <td>Database</td>\n",
       "      <td>47.861515</td>\n",
       "      <td>28716.430385</td>\n",
       "    </tr>\n",
       "  </tbody>\n",
       "</table>\n",
       "</div>"
      ],
      "text/plain": [
       "   order_id  item_id  product_id  quantity  list_price  discount  \\\n",
       "0         1        1          20         1      599.99       0.2   \n",
       "\n",
       "                    timestamp    source  Exchange Rate  list_price_egp  \n",
       "0  2024-04-28 18:26:15.337129  Database      47.861515    28716.430385  "
      ]
     },
     "execution_count": 21,
     "metadata": {},
     "output_type": "execute_result"
    }
   ],
   "source": [
    "df.head(1)"
   ]
  },
  {
   "cell_type": "markdown",
   "id": "698d211f-b71f-4772-a79a-78e3db5bbdeb",
   "metadata": {},
   "source": [
    "**Save the transformed data into staging_2**"
   ]
  },
  {
   "cell_type": "code",
   "execution_count": 22,
   "id": "16054b6b-9245-43e4-b8da-a72e687c9655",
   "metadata": {},
   "outputs": [],
   "source": [
    "# Create the staging directory\n",
    "import os\n",
    "directory_path = '../staging_2'\n",
    "\n",
    "# Create the directory if it does not exist\n",
    "os.makedirs(directory_path, exist_ok=True)\n",
    "os.makedirs(f\"{directory_path}/order_items\", exist_ok=True)\n",
    "df.to_csv(\"../staging_2/order_items/order_items.csv\", index=False)"
   ]
  }
 ],
 "metadata": {
  "kernelspec": {
   "display_name": "Python 3 (ipykernel)",
   "language": "python",
   "name": "python3"
  },
  "language_info": {
   "codemirror_mode": {
    "name": "ipython",
    "version": 3
   },
   "file_extension": ".py",
   "mimetype": "text/x-python",
   "name": "python",
   "nbconvert_exporter": "python",
   "pygments_lexer": "ipython3",
   "version": "3.9.5"
  }
 },
 "nbformat": 4,
 "nbformat_minor": 5
}
