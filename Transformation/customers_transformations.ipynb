{
 "cells": [
  {
   "cell_type": "code",
   "execution_count": 1,
   "id": "47752fa9-0f9c-4bbd-be8d-dd4491edde95",
   "metadata": {},
   "outputs": [],
   "source": [
    "import pandas as pd\n",
    "import os\n",
    "import numpy as np"
   ]
  },
  {
   "cell_type": "markdown",
   "id": "ba014c8d-fd12-4484-ac37-732938622499",
   "metadata": {},
   "source": [
    "### Check for late Delivery"
   ]
  },
  {
   "cell_type": "code",
   "execution_count": 2,
   "id": "a38176c3-9137-47ac-a393-48814c8da6a9",
   "metadata": {},
   "outputs": [],
   "source": [
    "customers = pd.read_csv('../staging_1/customers/customers.csv')\n",
    "stores = pd.read_csv('../staging_1/stores/stores.csv')"
   ]
  },
  {
   "cell_type": "code",
   "execution_count": 3,
   "id": "5c94a464-01f9-4df0-942d-2cf92bb5e683",
   "metadata": {},
   "outputs": [
    {
     "data": {
      "text/html": [
       "<div>\n",
       "<style scoped>\n",
       "    .dataframe tbody tr th:only-of-type {\n",
       "        vertical-align: middle;\n",
       "    }\n",
       "\n",
       "    .dataframe tbody tr th {\n",
       "        vertical-align: top;\n",
       "    }\n",
       "\n",
       "    .dataframe thead th {\n",
       "        text-align: right;\n",
       "    }\n",
       "</style>\n",
       "<table border=\"1\" class=\"dataframe\">\n",
       "  <thead>\n",
       "    <tr style=\"text-align: right;\">\n",
       "      <th></th>\n",
       "      <th>Unnamed: 0</th>\n",
       "      <th>customer_id</th>\n",
       "      <th>first_name</th>\n",
       "      <th>last_name</th>\n",
       "      <th>phone</th>\n",
       "      <th>email</th>\n",
       "      <th>street</th>\n",
       "      <th>city</th>\n",
       "      <th>state</th>\n",
       "      <th>zip_code</th>\n",
       "      <th>timestamp</th>\n",
       "      <th>source</th>\n",
       "    </tr>\n",
       "  </thead>\n",
       "  <tbody>\n",
       "    <tr>\n",
       "      <th>0</th>\n",
       "      <td>0</td>\n",
       "      <td>1</td>\n",
       "      <td>Debra</td>\n",
       "      <td>Burks</td>\n",
       "      <td>NaN</td>\n",
       "      <td>debra.burks@yahoo.com</td>\n",
       "      <td>9273 Thorne Ave.</td>\n",
       "      <td>Orchard Park</td>\n",
       "      <td>NY</td>\n",
       "      <td>14127</td>\n",
       "      <td>2024-04-28 17:44:44.788633</td>\n",
       "      <td>DataLake</td>\n",
       "    </tr>\n",
       "  </tbody>\n",
       "</table>\n",
       "</div>"
      ],
      "text/plain": [
       "   Unnamed: 0  customer_id first_name last_name phone                  email  \\\n",
       "0           0            1      Debra     Burks   NaN  debra.burks@yahoo.com   \n",
       "\n",
       "              street          city state  zip_code  \\\n",
       "0  9273 Thorne Ave.   Orchard Park    NY     14127   \n",
       "\n",
       "                    timestamp    source  \n",
       "0  2024-04-28 17:44:44.788633  DataLake  "
      ]
     },
     "execution_count": 3,
     "metadata": {},
     "output_type": "execute_result"
    }
   ],
   "source": [
    "customers.head(1)"
   ]
  },
  {
   "cell_type": "code",
   "execution_count": 4,
   "id": "e48c376a-16ea-4129-8767-677b0f0abf8a",
   "metadata": {},
   "outputs": [
    {
     "data": {
      "text/html": [
       "<div>\n",
       "<style scoped>\n",
       "    .dataframe tbody tr th:only-of-type {\n",
       "        vertical-align: middle;\n",
       "    }\n",
       "\n",
       "    .dataframe tbody tr th {\n",
       "        vertical-align: top;\n",
       "    }\n",
       "\n",
       "    .dataframe thead th {\n",
       "        text-align: right;\n",
       "    }\n",
       "</style>\n",
       "<table border=\"1\" class=\"dataframe\">\n",
       "  <thead>\n",
       "    <tr style=\"text-align: right;\">\n",
       "      <th></th>\n",
       "      <th>Unnamed: 0</th>\n",
       "      <th>store_id</th>\n",
       "      <th>store_name</th>\n",
       "      <th>phone</th>\n",
       "      <th>email</th>\n",
       "      <th>street</th>\n",
       "      <th>city</th>\n",
       "      <th>state</th>\n",
       "      <th>zip_code</th>\n",
       "      <th>timestamp</th>\n",
       "      <th>source</th>\n",
       "    </tr>\n",
       "  </thead>\n",
       "  <tbody>\n",
       "    <tr>\n",
       "      <th>0</th>\n",
       "      <td>0</td>\n",
       "      <td>1</td>\n",
       "      <td>Santa Cruz Bikes</td>\n",
       "      <td>(831) 476-4321</td>\n",
       "      <td>NaN</td>\n",
       "      <td>3700 Portola Drive</td>\n",
       "      <td>Santa Cruz</td>\n",
       "      <td>CA</td>\n",
       "      <td>NaN</td>\n",
       "      <td>2024-04-28 17:44:44.839659</td>\n",
       "      <td>DataLake</td>\n",
       "    </tr>\n",
       "    <tr>\n",
       "      <th>1</th>\n",
       "      <td>1</td>\n",
       "      <td>2</td>\n",
       "      <td>Baldwin Bikes</td>\n",
       "      <td>(516) 379-8888</td>\n",
       "      <td>baldwin@bikes.shop</td>\n",
       "      <td>4200 Chestnut Lane</td>\n",
       "      <td>Baldwin</td>\n",
       "      <td>NY</td>\n",
       "      <td>11432.0</td>\n",
       "      <td>2024-04-28 17:44:44.839659</td>\n",
       "      <td>DataLake</td>\n",
       "    </tr>\n",
       "    <tr>\n",
       "      <th>2</th>\n",
       "      <td>2</td>\n",
       "      <td>3</td>\n",
       "      <td>Rowlett Bikes</td>\n",
       "      <td>(972) 530-5555</td>\n",
       "      <td>rowlett@bikes.shop</td>\n",
       "      <td>8000 Fairway Avenue</td>\n",
       "      <td>Rowlett</td>\n",
       "      <td>TX</td>\n",
       "      <td>75088.0</td>\n",
       "      <td>2024-04-28 17:44:44.839659</td>\n",
       "      <td>DataLake</td>\n",
       "    </tr>\n",
       "  </tbody>\n",
       "</table>\n",
       "</div>"
      ],
      "text/plain": [
       "   Unnamed: 0  store_id        store_name           phone               email  \\\n",
       "0           0         1  Santa Cruz Bikes  (831) 476-4321                 NaN   \n",
       "1           1         2     Baldwin Bikes  (516) 379-8888  baldwin@bikes.shop   \n",
       "2           2         3     Rowlett Bikes  (972) 530-5555  rowlett@bikes.shop   \n",
       "\n",
       "                street        city state  zip_code  \\\n",
       "0   3700 Portola Drive  Santa Cruz    CA       NaN   \n",
       "1   4200 Chestnut Lane     Baldwin    NY   11432.0   \n",
       "2  8000 Fairway Avenue     Rowlett    TX   75088.0   \n",
       "\n",
       "                    timestamp    source  \n",
       "0  2024-04-28 17:44:44.839659  DataLake  \n",
       "1  2024-04-28 17:44:44.839659  DataLake  \n",
       "2  2024-04-28 17:44:44.839659  DataLake  "
      ]
     },
     "execution_count": 4,
     "metadata": {},
     "output_type": "execute_result"
    }
   ],
   "source": [
    "stores.head()"
   ]
  },
  {
   "cell_type": "code",
   "execution_count": 5,
   "id": "bbb41397-7e66-47c2-a3b4-d666f42826dd",
   "metadata": {},
   "outputs": [],
   "source": [
    "customers['local'] = customers.city.isin(stores.city)"
   ]
  },
  {
   "cell_type": "code",
   "execution_count": 6,
   "id": "30362f5f-19d8-48e5-ba33-9ccd977e9d37",
   "metadata": {},
   "outputs": [
    {
     "data": {
      "text/plain": [
       "0    Santa Cruz\n",
       "1       Baldwin\n",
       "2       Rowlett\n",
       "Name: city, dtype: object"
      ]
     },
     "execution_count": 6,
     "metadata": {},
     "output_type": "execute_result"
    }
   ],
   "source": [
    "stores.city"
   ]
  },
  {
   "cell_type": "markdown",
   "id": "6704ae24-4c7e-4917-bbae-1672d8e3af55",
   "metadata": {},
   "source": [
    "Check"
   ]
  },
  {
   "cell_type": "code",
   "execution_count": 7,
   "id": "683f23e2-09c9-4113-8b8f-3333526c304f",
   "metadata": {},
   "outputs": [
    {
     "data": {
      "text/html": [
       "<div>\n",
       "<style scoped>\n",
       "    .dataframe tbody tr th:only-of-type {\n",
       "        vertical-align: middle;\n",
       "    }\n",
       "\n",
       "    .dataframe tbody tr th {\n",
       "        vertical-align: top;\n",
       "    }\n",
       "\n",
       "    .dataframe thead th {\n",
       "        text-align: right;\n",
       "    }\n",
       "</style>\n",
       "<table border=\"1\" class=\"dataframe\">\n",
       "  <thead>\n",
       "    <tr style=\"text-align: right;\">\n",
       "      <th></th>\n",
       "      <th>city</th>\n",
       "      <th>local</th>\n",
       "    </tr>\n",
       "  </thead>\n",
       "  <tbody>\n",
       "    <tr>\n",
       "      <th>67</th>\n",
       "      <td>Rowlett</td>\n",
       "      <td>True</td>\n",
       "    </tr>\n",
       "    <tr>\n",
       "      <th>78</th>\n",
       "      <td>Baldwin</td>\n",
       "      <td>True</td>\n",
       "    </tr>\n",
       "    <tr>\n",
       "      <th>193</th>\n",
       "      <td>Santa Cruz</td>\n",
       "      <td>True</td>\n",
       "    </tr>\n",
       "  </tbody>\n",
       "</table>\n",
       "</div>"
      ],
      "text/plain": [
       "           city  local\n",
       "67      Rowlett   True\n",
       "78      Baldwin   True\n",
       "193  Santa Cruz   True"
      ]
     },
     "execution_count": 7,
     "metadata": {},
     "output_type": "execute_result"
    }
   ],
   "source": [
    "customers[customers.local][['city', 'local']].drop_duplicates()"
   ]
  },
  {
   "cell_type": "markdown",
   "id": "698d211f-b71f-4772-a79a-78e3db5bbdeb",
   "metadata": {},
   "source": [
    "**Save the transformed data into staging_2**"
   ]
  },
  {
   "cell_type": "code",
   "execution_count": 9,
   "id": "16054b6b-9245-43e4-b8da-a72e687c9655",
   "metadata": {},
   "outputs": [],
   "source": [
    "# Create the staging directory\n",
    "import os\n",
    "directory_path = '../staging_2'\n",
    "\n",
    "# Create the directory if it does not exist\n",
    "os.makedirs(directory_path, exist_ok=True)\n",
    "os.makedirs(f\"{directory_path}/customers\", exist_ok=True)\n",
    "customers.to_csv(\"../staging_2/customers/customers.csv\", index=False)"
   ]
  }
 ],
 "metadata": {
  "kernelspec": {
   "display_name": "Python 3 (ipykernel)",
   "language": "python",
   "name": "python3"
  },
  "language_info": {
   "codemirror_mode": {
    "name": "ipython",
    "version": 3
   },
   "file_extension": ".py",
   "mimetype": "text/x-python",
   "name": "python",
   "nbconvert_exporter": "python",
   "pygments_lexer": "ipython3",
   "version": "3.9.5"
  }
 },
 "nbformat": 4,
 "nbformat_minor": 5
}
