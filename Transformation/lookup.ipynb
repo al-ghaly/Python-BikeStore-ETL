{
 "cells": [
  {
   "cell_type": "markdown",
   "id": "0eb850d9-83a9-4580-b428-785f41375ec6",
   "metadata": {},
   "source": [
    "### Create a lookup CSV File"
   ]
  },
  {
   "cell_type": "markdown",
   "id": "d6202738-5b70-42be-865b-d4e5be08b701",
   "metadata": {},
   "source": [
    "Enough pandas and dataframes let's do it the hard way!"
   ]
  },
  {
   "cell_type": "code",
   "execution_count": 1,
   "id": "ad95f9e0-09e9-452f-8db6-043c9afc33b7",
   "metadata": {},
   "outputs": [],
   "source": [
    "status = {'1': 'Pending',\n",
    "          '2': 'Processing',\n",
    "          '3': 'Rejected',\n",
    "          '4': 'Completed'}"
   ]
  },
  {
   "cell_type": "code",
   "execution_count": 3,
   "id": "a04020b1-c2e2-4172-91cc-8bc838c1eded",
   "metadata": {},
   "outputs": [],
   "source": [
    "# Create the staging directory\n",
    "import os\n",
    "directory_path = '../staging_2'\n",
    "\n",
    "# Create the directory if it does not exist\n",
    "os.makedirs(directory_path, exist_ok=True)\n",
    "os.makedirs(f\"{directory_path}/lookup\", exist_ok=True)\n",
    "\n",
    "# Save the lookup table as Csv file\n",
    "# This will overwrite the file if exists\n",
    "data = open(f\"{directory_path}/lookup/lookup.csv\", 'w')\n",
    "header = ','.join(status)\n",
    "data.write(header + '\\n')\n",
    "row = ','.join(status.values())\n",
    "data.write(row + '\\n')\n",
    "data.close()"
   ]
  }
 ],
 "metadata": {
  "kernelspec": {
   "display_name": "Python 3 (ipykernel)",
   "language": "python",
   "name": "python3"
  },
  "language_info": {
   "codemirror_mode": {
    "name": "ipython",
    "version": 3
   },
   "file_extension": ".py",
   "mimetype": "text/x-python",
   "name": "python",
   "nbconvert_exporter": "python",
   "pygments_lexer": "ipython3",
   "version": "3.9.5"
  }
 },
 "nbformat": 4,
 "nbformat_minor": 5
}
