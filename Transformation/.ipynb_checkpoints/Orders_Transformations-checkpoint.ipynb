{
 "cells": [
  {
   "cell_type": "code",
   "execution_count": 1,
   "id": "47752fa9-0f9c-4bbd-be8d-dd4491edde95",
   "metadata": {},
   "outputs": [],
   "source": [
    "import pandas as pd\n",
    "import os\n",
    "import numpy as np"
   ]
  },
  {
   "cell_type": "markdown",
   "id": "ba014c8d-fd12-4484-ac37-732938622499",
   "metadata": {},
   "source": [
    "### Check for late Delivery"
   ]
  },
  {
   "cell_type": "markdown",
   "id": "6dd598c2-9486-411c-8517-31f5e4d57c17",
   "metadata": {},
   "source": [
    "**The shipped date are missing for some rows, and for those we will consider the late delivery, latency, and weekend missing as well**"
   ]
  },
  {
   "cell_type": "code",
   "execution_count": 2,
   "id": "a38176c3-9137-47ac-a393-48814c8da6a9",
   "metadata": {},
   "outputs": [],
   "source": [
    "orders = pd.read_csv('../staging_1/orders/orders.csv')"
   ]
  },
  {
   "cell_type": "code",
   "execution_count": 3,
   "id": "5c94a464-01f9-4df0-942d-2cf92bb5e683",
   "metadata": {},
   "outputs": [
    {
     "data": {
      "text/html": [
       "<div>\n",
       "<style scoped>\n",
       "    .dataframe tbody tr th:only-of-type {\n",
       "        vertical-align: middle;\n",
       "    }\n",
       "\n",
       "    .dataframe tbody tr th {\n",
       "        vertical-align: top;\n",
       "    }\n",
       "\n",
       "    .dataframe thead th {\n",
       "        text-align: right;\n",
       "    }\n",
       "</style>\n",
       "<table border=\"1\" class=\"dataframe\">\n",
       "  <thead>\n",
       "    <tr style=\"text-align: right;\">\n",
       "      <th></th>\n",
       "      <th>order_id</th>\n",
       "      <th>customer_id</th>\n",
       "      <th>order_status</th>\n",
       "      <th>order_date</th>\n",
       "      <th>required_date</th>\n",
       "      <th>shipped_date</th>\n",
       "      <th>store_id</th>\n",
       "      <th>staff_id</th>\n",
       "      <th>timestamp</th>\n",
       "      <th>source</th>\n",
       "    </tr>\n",
       "  </thead>\n",
       "  <tbody>\n",
       "    <tr>\n",
       "      <th>0</th>\n",
       "      <td>1</td>\n",
       "      <td>259</td>\n",
       "      <td>4</td>\n",
       "      <td>2016-01-01</td>\n",
       "      <td>2016-01-03</td>\n",
       "      <td>2016-01-03</td>\n",
       "      <td>1</td>\n",
       "      <td>2</td>\n",
       "      <td>2024-04-28 18:26:13.902926</td>\n",
       "      <td>Database</td>\n",
       "    </tr>\n",
       "  </tbody>\n",
       "</table>\n",
       "</div>"
      ],
      "text/plain": [
       "   order_id  customer_id  order_status  order_date required_date shipped_date  \\\n",
       "0         1          259             4  2016-01-01    2016-01-03   2016-01-03   \n",
       "\n",
       "   store_id  staff_id                   timestamp    source  \n",
       "0         1         2  2024-04-28 18:26:13.902926  Database  "
      ]
     },
     "execution_count": 3,
     "metadata": {},
     "output_type": "execute_result"
    }
   ],
   "source": [
    "orders.head(1)"
   ]
  },
  {
   "cell_type": "code",
   "execution_count": 4,
   "id": "5a02fdbf-52b5-4979-8d4e-4deadf46bbeb",
   "metadata": {},
   "outputs": [
    {
     "name": "stdout",
     "output_type": "stream",
     "text": [
      "<class 'pandas.core.frame.DataFrame'>\n",
      "RangeIndex: 1604 entries, 0 to 1603\n",
      "Data columns (total 10 columns):\n",
      " #   Column         Non-Null Count  Dtype \n",
      "---  ------         --------------  ----- \n",
      " 0   order_id       1604 non-null   int64 \n",
      " 1   customer_id    1604 non-null   int64 \n",
      " 2   order_status   1604 non-null   int64 \n",
      " 3   order_date     1604 non-null   object\n",
      " 4   required_date  1604 non-null   object\n",
      " 5   shipped_date   1434 non-null   object\n",
      " 6   store_id       1604 non-null   int64 \n",
      " 7   staff_id       1604 non-null   int64 \n",
      " 8   timestamp      1604 non-null   object\n",
      " 9   source         1604 non-null   object\n",
      "dtypes: int64(5), object(5)\n",
      "memory usage: 125.4+ KB\n"
     ]
    }
   ],
   "source": [
    "orders.info()"
   ]
  },
  {
   "cell_type": "code",
   "execution_count": 5,
   "id": "999d701e-4a5a-42ea-9e47-beea1e6ea4c5",
   "metadata": {},
   "outputs": [],
   "source": [
    "# Convert date columns to datetime format\n",
    "orders['required_date'] = pd.to_datetime(orders['required_date'], errors='coerce')\n",
    "orders['shipped_date'] = pd.to_datetime(orders['shipped_date'], errors='coerce')\n",
    "# Add 'late_delivery' column\n",
    "orders['late_delivery'] = orders['shipped_date'] > orders['required_date']"
   ]
  },
  {
   "cell_type": "code",
   "execution_count": 6,
   "id": "ee636a6b-1208-42b8-bfd2-468734812deb",
   "metadata": {},
   "outputs": [
    {
     "data": {
      "text/plain": [
       "172"
      ]
     },
     "execution_count": 6,
     "metadata": {},
     "output_type": "execute_result"
    }
   ],
   "source": [
    "len(orders[orders['shipped_date'].isna()])"
   ]
  },
  {
   "cell_type": "code",
   "execution_count": 7,
   "id": "ec188771-7417-48b8-a2c9-1d289d32ee68",
   "metadata": {},
   "outputs": [
    {
     "name": "stderr",
     "output_type": "stream",
     "text": [
      "C:\\Users\\alghaly\\AppData\\Local\\Temp\\ipykernel_25436\\717394108.py:2: FutureWarning: Setting an item of incompatible dtype is deprecated and will raise an error in a future version of pandas. Value 'nan' has dtype incompatible with bool, please explicitly cast to a compatible dtype first.\n",
      "  orders.loc[orders['shipped_date'].isna(), 'late_delivery'] = np.nan\n"
     ]
    }
   ],
   "source": [
    "# Set late delivery to Nan when the shipped date is not available\n",
    "orders.loc[orders['shipped_date'].isna(), 'late_delivery'] = np.nan"
   ]
  },
  {
   "cell_type": "code",
   "execution_count": 8,
   "id": "a1216453-1ca0-4835-a85a-6aae32c3f809",
   "metadata": {},
   "outputs": [
    {
     "data": {
      "text/html": [
       "<div>\n",
       "<style scoped>\n",
       "    .dataframe tbody tr th:only-of-type {\n",
       "        vertical-align: middle;\n",
       "    }\n",
       "\n",
       "    .dataframe tbody tr th {\n",
       "        vertical-align: top;\n",
       "    }\n",
       "\n",
       "    .dataframe thead th {\n",
       "        text-align: right;\n",
       "    }\n",
       "</style>\n",
       "<table border=\"1\" class=\"dataframe\">\n",
       "  <thead>\n",
       "    <tr style=\"text-align: right;\">\n",
       "      <th></th>\n",
       "      <th>order_id</th>\n",
       "      <th>customer_id</th>\n",
       "      <th>order_status</th>\n",
       "      <th>order_date</th>\n",
       "      <th>required_date</th>\n",
       "      <th>shipped_date</th>\n",
       "      <th>store_id</th>\n",
       "      <th>staff_id</th>\n",
       "      <th>timestamp</th>\n",
       "      <th>source</th>\n",
       "      <th>late_delivery</th>\n",
       "    </tr>\n",
       "  </thead>\n",
       "  <tbody>\n",
       "    <tr>\n",
       "      <th>62</th>\n",
       "      <td>70</td>\n",
       "      <td>50</td>\n",
       "      <td>3</td>\n",
       "      <td>2016-02-11</td>\n",
       "      <td>2016-02-11</td>\n",
       "      <td>NaT</td>\n",
       "      <td>3</td>\n",
       "      <td>9</td>\n",
       "      <td>2024-04-28 18:26:13.902926</td>\n",
       "      <td>Database</td>\n",
       "      <td>NaN</td>\n",
       "    </tr>\n",
       "    <tr>\n",
       "      <th>68</th>\n",
       "      <td>76</td>\n",
       "      <td>9</td>\n",
       "      <td>3</td>\n",
       "      <td>2016-02-16</td>\n",
       "      <td>2016-02-16</td>\n",
       "      <td>NaT</td>\n",
       "      <td>2</td>\n",
       "      <td>6</td>\n",
       "      <td>2024-04-28 18:26:13.902926</td>\n",
       "      <td>Database</td>\n",
       "      <td>NaN</td>\n",
       "    </tr>\n",
       "    <tr>\n",
       "      <th>150</th>\n",
       "      <td>158</td>\n",
       "      <td>117</td>\n",
       "      <td>3</td>\n",
       "      <td>2016-04-04</td>\n",
       "      <td>2016-04-04</td>\n",
       "      <td>NaT</td>\n",
       "      <td>3</td>\n",
       "      <td>9</td>\n",
       "      <td>2024-04-28 18:26:13.902926</td>\n",
       "      <td>Database</td>\n",
       "      <td>NaN</td>\n",
       "    </tr>\n",
       "    <tr>\n",
       "      <th>177</th>\n",
       "      <td>185</td>\n",
       "      <td>24</td>\n",
       "      <td>3</td>\n",
       "      <td>2016-04-20</td>\n",
       "      <td>2016-04-20</td>\n",
       "      <td>NaT</td>\n",
       "      <td>1</td>\n",
       "      <td>2</td>\n",
       "      <td>2024-04-28 18:26:13.902926</td>\n",
       "      <td>Database</td>\n",
       "      <td>NaN</td>\n",
       "    </tr>\n",
       "    <tr>\n",
       "      <th>231</th>\n",
       "      <td>239</td>\n",
       "      <td>13</td>\n",
       "      <td>3</td>\n",
       "      <td>2016-05-27</td>\n",
       "      <td>2016-05-27</td>\n",
       "      <td>NaT</td>\n",
       "      <td>3</td>\n",
       "      <td>9</td>\n",
       "      <td>2024-04-28 18:26:13.902926</td>\n",
       "      <td>Database</td>\n",
       "      <td>NaN</td>\n",
       "    </tr>\n",
       "  </tbody>\n",
       "</table>\n",
       "</div>"
      ],
      "text/plain": [
       "     order_id  customer_id  order_status  order_date required_date  \\\n",
       "62         70           50             3  2016-02-11    2016-02-11   \n",
       "68         76            9             3  2016-02-16    2016-02-16   \n",
       "150       158          117             3  2016-04-04    2016-04-04   \n",
       "177       185           24             3  2016-04-20    2016-04-20   \n",
       "231       239           13             3  2016-05-27    2016-05-27   \n",
       "\n",
       "    shipped_date  store_id  staff_id                   timestamp    source  \\\n",
       "62           NaT         3         9  2024-04-28 18:26:13.902926  Database   \n",
       "68           NaT         2         6  2024-04-28 18:26:13.902926  Database   \n",
       "150          NaT         3         9  2024-04-28 18:26:13.902926  Database   \n",
       "177          NaT         1         2  2024-04-28 18:26:13.902926  Database   \n",
       "231          NaT         3         9  2024-04-28 18:26:13.902926  Database   \n",
       "\n",
       "    late_delivery  \n",
       "62            NaN  \n",
       "68            NaN  \n",
       "150           NaN  \n",
       "177           NaN  \n",
       "231           NaN  "
      ]
     },
     "execution_count": 8,
     "metadata": {},
     "output_type": "execute_result"
    }
   ],
   "source": [
    "orders[orders['shipped_date'].isna()].head()"
   ]
  },
  {
   "cell_type": "markdown",
   "id": "ee57d057-cb72-44ac-8dcd-aec778bc7cc7",
   "metadata": {},
   "source": [
    "### Add latency Days"
   ]
  },
  {
   "cell_type": "code",
   "execution_count": 9,
   "id": "565452ea-479e-4c8c-a3a5-3df54f628216",
   "metadata": {},
   "outputs": [],
   "source": [
    "def calculate_latency(row):\n",
    "    if row.late_delivery:\n",
    "        return (row.shipped_date - row.required_date).days\n",
    "    else:\n",
    "        return np.nan\n",
    "\n",
    "# Apply the function to create the 'latency_days' column\n",
    "orders['latency_days'] = orders.apply(calculate_latency, axis=1)"
   ]
  },
  {
   "cell_type": "code",
   "execution_count": 10,
   "id": "4a58c5cb-3cae-4bdc-a30e-8b337de78010",
   "metadata": {},
   "outputs": [
    {
     "data": {
      "text/html": [
       "<div>\n",
       "<style scoped>\n",
       "    .dataframe tbody tr th:only-of-type {\n",
       "        vertical-align: middle;\n",
       "    }\n",
       "\n",
       "    .dataframe tbody tr th {\n",
       "        vertical-align: top;\n",
       "    }\n",
       "\n",
       "    .dataframe thead th {\n",
       "        text-align: right;\n",
       "    }\n",
       "</style>\n",
       "<table border=\"1\" class=\"dataframe\">\n",
       "  <thead>\n",
       "    <tr style=\"text-align: right;\">\n",
       "      <th></th>\n",
       "      <th>order_id</th>\n",
       "      <th>customer_id</th>\n",
       "      <th>order_status</th>\n",
       "      <th>order_date</th>\n",
       "      <th>required_date</th>\n",
       "      <th>shipped_date</th>\n",
       "      <th>store_id</th>\n",
       "      <th>staff_id</th>\n",
       "      <th>timestamp</th>\n",
       "      <th>source</th>\n",
       "      <th>late_delivery</th>\n",
       "      <th>latency_days</th>\n",
       "    </tr>\n",
       "  </thead>\n",
       "  <tbody>\n",
       "    <tr>\n",
       "      <th>0</th>\n",
       "      <td>1</td>\n",
       "      <td>259</td>\n",
       "      <td>4</td>\n",
       "      <td>2016-01-01</td>\n",
       "      <td>2016-01-03</td>\n",
       "      <td>2016-01-03</td>\n",
       "      <td>1</td>\n",
       "      <td>2</td>\n",
       "      <td>2024-04-28 18:26:13.902926</td>\n",
       "      <td>Database</td>\n",
       "      <td>False</td>\n",
       "      <td>NaN</td>\n",
       "    </tr>\n",
       "  </tbody>\n",
       "</table>\n",
       "</div>"
      ],
      "text/plain": [
       "   order_id  customer_id  order_status  order_date required_date shipped_date  \\\n",
       "0         1          259             4  2016-01-01    2016-01-03   2016-01-03   \n",
       "\n",
       "   store_id  staff_id                   timestamp    source late_delivery  \\\n",
       "0         1         2  2024-04-28 18:26:13.902926  Database         False   \n",
       "\n",
       "   latency_days  \n",
       "0           NaN  "
      ]
     },
     "execution_count": 10,
     "metadata": {},
     "output_type": "execute_result"
    }
   ],
   "source": [
    "orders.head(1)"
   ]
  },
  {
   "cell_type": "markdown",
   "id": "4c5ee3a6-e3df-44ec-8a5b-de6cf40ff40b",
   "metadata": {},
   "source": [
    "### Add a weekend column "
   ]
  },
  {
   "cell_type": "code",
   "execution_count": 11,
   "id": "b79c93fd-122a-4c3d-b6d4-92db5e2ee087",
   "metadata": {},
   "outputs": [
    {
     "name": "stderr",
     "output_type": "stream",
     "text": [
      "C:\\Users\\alghaly\\AppData\\Local\\Temp\\ipykernel_25436\\3128609993.py:3: FutureWarning: Setting an item of incompatible dtype is deprecated and will raise an error in a future version of pandas. Value 'nan' has dtype incompatible with bool, please explicitly cast to a compatible dtype first.\n",
      "  orders.loc[orders['shipped_date'].isna(), 'weekend'] = np.nan\n"
     ]
    }
   ],
   "source": [
    "orders['weekend'] = orders.shipped_date.apply(lambda x: x.day_name() in ('Sunday', 'Monday'))\n",
    "# Set weekend to Nan when the shipped date is not available\n",
    "orders.loc[orders['shipped_date'].isna(), 'weekend'] = np.nan"
   ]
  },
  {
   "cell_type": "code",
   "execution_count": 12,
   "id": "e90c40db-b376-4a14-a0db-77ebe5b832c4",
   "metadata": {},
   "outputs": [
    {
     "data": {
      "text/html": [
       "<div>\n",
       "<style scoped>\n",
       "    .dataframe tbody tr th:only-of-type {\n",
       "        vertical-align: middle;\n",
       "    }\n",
       "\n",
       "    .dataframe tbody tr th {\n",
       "        vertical-align: top;\n",
       "    }\n",
       "\n",
       "    .dataframe thead th {\n",
       "        text-align: right;\n",
       "    }\n",
       "</style>\n",
       "<table border=\"1\" class=\"dataframe\">\n",
       "  <thead>\n",
       "    <tr style=\"text-align: right;\">\n",
       "      <th></th>\n",
       "      <th>order_id</th>\n",
       "      <th>customer_id</th>\n",
       "      <th>order_status</th>\n",
       "      <th>order_date</th>\n",
       "      <th>required_date</th>\n",
       "      <th>shipped_date</th>\n",
       "      <th>store_id</th>\n",
       "      <th>staff_id</th>\n",
       "      <th>timestamp</th>\n",
       "      <th>source</th>\n",
       "      <th>late_delivery</th>\n",
       "      <th>latency_days</th>\n",
       "      <th>weekend</th>\n",
       "    </tr>\n",
       "  </thead>\n",
       "  <tbody>\n",
       "    <tr>\n",
       "      <th>0</th>\n",
       "      <td>1</td>\n",
       "      <td>259</td>\n",
       "      <td>4</td>\n",
       "      <td>2016-01-01</td>\n",
       "      <td>2016-01-03</td>\n",
       "      <td>2016-01-03</td>\n",
       "      <td>1</td>\n",
       "      <td>2</td>\n",
       "      <td>2024-04-28 18:26:13.902926</td>\n",
       "      <td>Database</td>\n",
       "      <td>False</td>\n",
       "      <td>NaN</td>\n",
       "      <td>True</td>\n",
       "    </tr>\n",
       "    <tr>\n",
       "      <th>1</th>\n",
       "      <td>2</td>\n",
       "      <td>1212</td>\n",
       "      <td>4</td>\n",
       "      <td>2016-01-01</td>\n",
       "      <td>2016-01-04</td>\n",
       "      <td>2016-01-03</td>\n",
       "      <td>2</td>\n",
       "      <td>6</td>\n",
       "      <td>2024-04-28 18:26:13.902926</td>\n",
       "      <td>Database</td>\n",
       "      <td>False</td>\n",
       "      <td>NaN</td>\n",
       "      <td>True</td>\n",
       "    </tr>\n",
       "    <tr>\n",
       "      <th>2</th>\n",
       "      <td>3</td>\n",
       "      <td>523</td>\n",
       "      <td>4</td>\n",
       "      <td>2016-01-02</td>\n",
       "      <td>2016-01-05</td>\n",
       "      <td>2016-01-03</td>\n",
       "      <td>2</td>\n",
       "      <td>7</td>\n",
       "      <td>2024-04-28 18:26:13.902926</td>\n",
       "      <td>Database</td>\n",
       "      <td>False</td>\n",
       "      <td>NaN</td>\n",
       "      <td>True</td>\n",
       "    </tr>\n",
       "    <tr>\n",
       "      <th>3</th>\n",
       "      <td>4</td>\n",
       "      <td>175</td>\n",
       "      <td>4</td>\n",
       "      <td>2016-01-03</td>\n",
       "      <td>2016-01-04</td>\n",
       "      <td>2016-01-05</td>\n",
       "      <td>1</td>\n",
       "      <td>3</td>\n",
       "      <td>2024-04-28 18:26:13.902926</td>\n",
       "      <td>Database</td>\n",
       "      <td>True</td>\n",
       "      <td>1.0</td>\n",
       "      <td>False</td>\n",
       "    </tr>\n",
       "    <tr>\n",
       "      <th>4</th>\n",
       "      <td>5</td>\n",
       "      <td>1324</td>\n",
       "      <td>4</td>\n",
       "      <td>2016-01-03</td>\n",
       "      <td>2016-01-06</td>\n",
       "      <td>2016-01-06</td>\n",
       "      <td>2</td>\n",
       "      <td>6</td>\n",
       "      <td>2024-04-28 18:26:13.902926</td>\n",
       "      <td>Database</td>\n",
       "      <td>False</td>\n",
       "      <td>NaN</td>\n",
       "      <td>False</td>\n",
       "    </tr>\n",
       "  </tbody>\n",
       "</table>\n",
       "</div>"
      ],
      "text/plain": [
       "   order_id  customer_id  order_status  order_date required_date shipped_date  \\\n",
       "0         1          259             4  2016-01-01    2016-01-03   2016-01-03   \n",
       "1         2         1212             4  2016-01-01    2016-01-04   2016-01-03   \n",
       "2         3          523             4  2016-01-02    2016-01-05   2016-01-03   \n",
       "3         4          175             4  2016-01-03    2016-01-04   2016-01-05   \n",
       "4         5         1324             4  2016-01-03    2016-01-06   2016-01-06   \n",
       "\n",
       "   store_id  staff_id                   timestamp    source late_delivery  \\\n",
       "0         1         2  2024-04-28 18:26:13.902926  Database         False   \n",
       "1         2         6  2024-04-28 18:26:13.902926  Database         False   \n",
       "2         2         7  2024-04-28 18:26:13.902926  Database         False   \n",
       "3         1         3  2024-04-28 18:26:13.902926  Database          True   \n",
       "4         2         6  2024-04-28 18:26:13.902926  Database         False   \n",
       "\n",
       "   latency_days weekend  \n",
       "0           NaN    True  \n",
       "1           NaN    True  \n",
       "2           NaN    True  \n",
       "3           1.0   False  \n",
       "4           NaN   False  "
      ]
     },
     "execution_count": 12,
     "metadata": {},
     "output_type": "execute_result"
    }
   ],
   "source": [
    "orders.head()"
   ]
  },
  {
   "cell_type": "markdown",
   "id": "698d211f-b71f-4772-a79a-78e3db5bbdeb",
   "metadata": {},
   "source": [
    "**Save the transformed data into staging_2**"
   ]
  },
  {
   "cell_type": "code",
   "execution_count": 13,
   "id": "16054b6b-9245-43e4-b8da-a72e687c9655",
   "metadata": {},
   "outputs": [],
   "source": [
    "# Create the staging directory\n",
    "import os\n",
    "directory_path = '../staging_2'\n",
    "\n",
    "# Create the directory if it does not exist\n",
    "os.makedirs(directory_path, exist_ok=True)\n",
    "os.makedirs(f\"{directory_path}/orders\", exist_ok=True)\n",
    "orders.to_csv(\"../staging_2/orders/orders.csv\", index=False)"
   ]
  }
 ],
 "metadata": {
  "kernelspec": {
   "display_name": "Python 3 (ipykernel)",
   "language": "python",
   "name": "python3"
  },
  "language_info": {
   "codemirror_mode": {
    "name": "ipython",
    "version": 3
   },
   "file_extension": ".py",
   "mimetype": "text/x-python",
   "name": "python",
   "nbconvert_exporter": "python",
   "pygments_lexer": "ipython3",
   "version": "3.9.5"
  }
 },
 "nbformat": 4,
 "nbformat_minor": 5
}
